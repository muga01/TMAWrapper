{
  "nbformat": 4,
  "nbformat_minor": 0,
  "metadata": {
    "colab": {
      "provenance": [],
      "collapsed_sections": [
        "LSXqjPksi5uZ",
        "7Yn8F8rp3DFb",
        "x6ZBHB8nRV27",
        "t7SkLCVx4pgN",
        "0a7H_58_A6Tw",
        "QOyPhcUneE2B",
        "hHjgYsbUWuHq",
        "x3scXLtNV-2b",
        "kiTjbUSllaSG",
        "pyORhDZqmytu",
        "uV2iS2yfm5Qr",
        "aSD1_F-zm_Dt",
        "BrOW8VFOqF3q",
        "tQwuQ0qZ8Oic",
        "AoUaqFWS1Moc",
        "vqCeJE7SlYI3",
        "pHKpc82VR4i7",
        "b-6jdOhf1Vzr",
        "mJZXZcxE2Z18",
        "-bSNcjOrFEpy",
        "hO6vlW_GF_fz"
      ],
      "authorship_tag": "ABX9TyNAkg+VMSBIPYkFgTDHgwmG",
      "include_colab_link": true
    },
    "kernelspec": {
      "name": "python3",
      "display_name": "Python 3"
    },
    "language_info": {
      "name": "python"
    },
    "accelerator": "GPU"
  },
  "cells": [
    {
      "cell_type": "markdown",
      "metadata": {
        "id": "view-in-github",
        "colab_type": "text"
      },
      "source": [
        "<a href=\"https://colab.research.google.com/github/muga01/TMAWrapper/blob/main/PCA_TSNE_Autoencoder.ipynb\" target=\"_parent\"><img src=\"https://colab.research.google.com/assets/colab-badge.svg\" alt=\"Open In Colab\"/></a>"
      ]
    },
    {
      "cell_type": "markdown",
      "source": [
        "# Problem Description"
      ],
      "metadata": {
        "id": "aPxLIy2KIKe5"
      }
    },
    {
      "cell_type": "markdown",
      "source": [
        "It happens that time is not on our side. We need to make a quick decision on certain matters as quickly as possible. Developers intending to re-use or implement exact text searching algorithms often ask themselves on which algorithm we should pick out of the many algorithms available. They manually test each algorithm to find the one providing the fastest speed based on their test case. This is a lengthy process demanding resources and time. We propose a tool in which based on the test case, the user is proposed with the fastest exact text searching algorithm in no time. This way developers concentrate in more advanced tasks which require human presence and expertise. "
      ],
      "metadata": {
        "id": "YFFkvWb9Ic6v"
      }
    },
    {
      "cell_type": "markdown",
      "source": [
        "# Data quick check\n",
        "\n",
        "\n"
      ],
      "metadata": {
        "id": "aV99aSeE8i8j"
      }
    },
    {
      "cell_type": "markdown",
      "source": [
        "## Data Load"
      ],
      "metadata": {
        "id": "Ae__19rhCOQX"
      }
    },
    {
      "cell_type": "code",
      "source": [
        "#!pip install pandas-bokeh\n",
        "# !pip install ipympl\n",
        "# !pip install plotly"
      ],
      "metadata": {
        "id": "h18-T4Vud2zx"
      },
      "execution_count": null,
      "outputs": []
    },
    {
      "cell_type": "code",
      "source": [
        "import matplotlib.pyplot as plt\n",
        "import numpy as np\n",
        "import os\n",
        "import urllib.request\n",
        "import pandas as pd\n",
        "import seaborn as sns\n",
        "import panel as pn\n",
        "import panel.widgets as pnw\n",
        "from matplotlib.figure import Figure\n",
        "from matplotlib.ticker import ScalarFormatter\n",
        "import warnings\n",
        "warnings.filterwarnings(\"ignore\")\n",
        "pn.extension()\n",
        "#import pandas_bokeh\n",
        "#pandas_bokeh.output_notebook()\n",
        "# %matplotlib inline\n",
        "# %matplotlib widget"
      ],
      "metadata": {
        "id": "7QQiH_D3NfsR",
        "colab": {
          "base_uri": "https://localhost:8080/",
          "height": 17
        },
        "outputId": "8d6c8bda-d007-45b4-b1d1-5e9ff7afcfca"
      },
      "execution_count": null,
      "outputs": [
        {
          "output_type": "display_data",
          "data": {
            "application/javascript": [
              "\n",
              "(function(root) {\n",
              "  function now() {\n",
              "    return new Date();\n",
              "  }\n",
              "\n",
              "  var force = true;\n",
              "\n",
              "  if (typeof root._bokeh_onload_callbacks === \"undefined\" || force === true) {\n",
              "    root._bokeh_onload_callbacks = [];\n",
              "    root._bokeh_is_loading = undefined;\n",
              "  }\n",
              "\n",
              "  if (typeof (root._bokeh_timeout) === \"undefined\" || force === true) {\n",
              "    root._bokeh_timeout = Date.now() + 5000;\n",
              "    root._bokeh_failed_load = false;\n",
              "  }\n",
              "\n",
              "  function run_callbacks() {\n",
              "    try {\n",
              "      root._bokeh_onload_callbacks.forEach(function(callback) {\n",
              "        if (callback != null)\n",
              "          callback();\n",
              "      });\n",
              "    } finally {\n",
              "      delete root._bokeh_onload_callbacks\n",
              "    }\n",
              "    console.debug(\"Bokeh: all callbacks have finished\");\n",
              "  }\n",
              "\n",
              "  function load_libs(css_urls, js_urls, js_modules, callback) {\n",
              "    if (css_urls == null) css_urls = [];\n",
              "    if (js_urls == null) js_urls = [];\n",
              "    if (js_modules == null) js_modules = [];\n",
              "\n",
              "    root._bokeh_onload_callbacks.push(callback);\n",
              "    if (root._bokeh_is_loading > 0) {\n",
              "      console.debug(\"Bokeh: BokehJS is being loaded, scheduling callback at\", now());\n",
              "      return null;\n",
              "    }\n",
              "    if (js_urls.length === 0 && js_modules.length === 0) {\n",
              "      run_callbacks();\n",
              "      return null;\n",
              "    }\n",
              "    console.debug(\"Bokeh: BokehJS not loaded, scheduling load and callback at\", now());\n",
              "    root._bokeh_is_loading = css_urls.length + js_urls.length + js_modules.length;\n",
              "\n",
              "    function on_load() {\n",
              "      root._bokeh_is_loading--;\n",
              "      if (root._bokeh_is_loading === 0) {\n",
              "        console.debug(\"Bokeh: all BokehJS libraries/stylesheets loaded\");\n",
              "        run_callbacks()\n",
              "      }\n",
              "    }\n",
              "\n",
              "    function on_error() {\n",
              "      console.error(\"failed to load \" + url);\n",
              "    }\n",
              "\n",
              "    for (var i = 0; i < css_urls.length; i++) {\n",
              "      var url = css_urls[i];\n",
              "      const element = document.createElement(\"link\");\n",
              "      element.onload = on_load;\n",
              "      element.onerror = on_error;\n",
              "      element.rel = \"stylesheet\";\n",
              "      element.type = \"text/css\";\n",
              "      element.href = url;\n",
              "      console.debug(\"Bokeh: injecting link tag for BokehJS stylesheet: \", url);\n",
              "      document.body.appendChild(element);\n",
              "    }\n",
              "\n",
              "    var skip = [];\n",
              "    if (window.requirejs) {\n",
              "      window.requirejs.config({'packages': {}, 'paths': {}, 'shim': {}});\n",
              "      \n",
              "    }\n",
              "    for (var i = 0; i < js_urls.length; i++) {\n",
              "      var url = js_urls[i];\n",
              "      if (skip.indexOf(url) >= 0) { on_load(); continue; }\n",
              "      var element = document.createElement('script');\n",
              "      element.onload = on_load;\n",
              "      element.onerror = on_error;\n",
              "      element.async = false;\n",
              "      element.src = url;\n",
              "      console.debug(\"Bokeh: injecting script tag for BokehJS library: \", url);\n",
              "      document.head.appendChild(element);\n",
              "    }\n",
              "    for (var i = 0; i < js_modules.length; i++) {\n",
              "      var url = js_modules[i];\n",
              "      if (skip.indexOf(url) >= 0) { on_load(); continue; }\n",
              "      var element = document.createElement('script');\n",
              "      element.onload = on_load;\n",
              "      element.onerror = on_error;\n",
              "      element.async = false;\n",
              "      element.src = url;\n",
              "      element.type = \"module\";\n",
              "      console.debug(\"Bokeh: injecting script tag for BokehJS library: \", url);\n",
              "      document.head.appendChild(element);\n",
              "    }\n",
              "    if (!js_urls.length && !js_modules.length) {\n",
              "      on_load()\n",
              "    }\n",
              "  };\n",
              "\n",
              "  function inject_raw_css(css) {\n",
              "    const element = document.createElement(\"style\");\n",
              "    element.appendChild(document.createTextNode(css));\n",
              "    document.body.appendChild(element);\n",
              "  }\n",
              "\n",
              "  var js_urls = [\"https://cdn.bokeh.org/bokeh/release/bokeh-2.3.3.min.js\", \"https://cdn.bokeh.org/bokeh/release/bokeh-widgets-2.3.3.min.js\", \"https://cdn.bokeh.org/bokeh/release/bokeh-tables-2.3.3.min.js\", \"https://unpkg.com/@holoviz/panel@0.12.1/dist/panel.min.js\"];\n",
              "  var js_modules = [];\n",
              "  var css_urls = [\"https://unpkg.com/@holoviz/panel@0.12.1/dist/css/card.css\", \"https://unpkg.com/@holoviz/panel@0.12.1/dist/css/dataframe.css\", \"https://unpkg.com/@holoviz/panel@0.12.1/dist/css/json.css\", \"https://unpkg.com/@holoviz/panel@0.12.1/dist/css/loading.css\", \"https://unpkg.com/@holoviz/panel@0.12.1/dist/css/alerts.css\", \"https://unpkg.com/@holoviz/panel@0.12.1/dist/css/markdown.css\", \"https://unpkg.com/@holoviz/panel@0.12.1/dist/css/widgets.css\"];\n",
              "  var inline_js = [\n",
              "    function(Bokeh) {\n",
              "      inject_raw_css(\"\\n    .bk.pn-loading.arcs:before {\\n      background-image: url(\\\"data:image/svg+xml;base64,PHN2ZyB4bWxucz0iaHR0cDovL3d3dy53My5vcmcvMjAwMC9zdmciIHhtbG5zOnhsaW5rPSJodHRwOi8vd3d3LnczLm9yZy8xOTk5L3hsaW5rIiBzdHlsZT0ibWFyZ2luOiBhdXRvOyBiYWNrZ3JvdW5kOiBub25lOyBkaXNwbGF5OiBibG9jazsgc2hhcGUtcmVuZGVyaW5nOiBhdXRvOyIgdmlld0JveD0iMCAwIDEwMCAxMDAiIHByZXNlcnZlQXNwZWN0UmF0aW89InhNaWRZTWlkIj4gIDxjaXJjbGUgY3g9IjUwIiBjeT0iNTAiIHI9IjMyIiBzdHJva2Utd2lkdGg9IjgiIHN0cm9rZT0iI2MzYzNjMyIgc3Ryb2tlLWRhc2hhcnJheT0iNTAuMjY1NDgyNDU3NDM2NjkgNTAuMjY1NDgyNDU3NDM2NjkiIGZpbGw9Im5vbmUiIHN0cm9rZS1saW5lY2FwPSJyb3VuZCI+ICAgIDxhbmltYXRlVHJhbnNmb3JtIGF0dHJpYnV0ZU5hbWU9InRyYW5zZm9ybSIgdHlwZT0icm90YXRlIiByZXBlYXRDb3VudD0iaW5kZWZpbml0ZSIgZHVyPSIxcyIga2V5VGltZXM9IjA7MSIgdmFsdWVzPSIwIDUwIDUwOzM2MCA1MCA1MCI+PC9hbmltYXRlVHJhbnNmb3JtPiAgPC9jaXJjbGU+PC9zdmc+\\\")\\n    }\\n    \");\n",
              "    },\n",
              "    function(Bokeh) {\n",
              "      Bokeh.set_log_level(\"info\");\n",
              "    },\n",
              "    function(Bokeh) {} // ensure no trailing comma for IE\n",
              "  ];\n",
              "\n",
              "  function run_inline_js() {\n",
              "    if ((root.Bokeh !== undefined) || (force === true)) {\n",
              "      for (var i = 0; i < inline_js.length; i++) {\n",
              "        inline_js[i].call(root, root.Bokeh);\n",
              "      }} else if (Date.now() < root._bokeh_timeout) {\n",
              "      setTimeout(run_inline_js, 100);\n",
              "    } else if (!root._bokeh_failed_load) {\n",
              "      console.log(\"Bokeh: BokehJS failed to load within specified timeout.\");\n",
              "      root._bokeh_failed_load = true;\n",
              "    }\n",
              "  }\n",
              "\n",
              "  if (root._bokeh_is_loading === 0) {\n",
              "    console.debug(\"Bokeh: BokehJS loaded, going straight to plotting\");\n",
              "    run_inline_js();\n",
              "  } else {\n",
              "    load_libs(css_urls, js_urls, js_modules, function() {\n",
              "      console.debug(\"Bokeh: BokehJS plotting callback run at\", now());\n",
              "      run_inline_js();\n",
              "    });\n",
              "  }\n",
              "}(window));"
            ],
            "application/vnd.holoviews_load.v0+json": "\n(function(root) {\n  function now() {\n    return new Date();\n  }\n\n  var force = true;\n\n  if (typeof root._bokeh_onload_callbacks === \"undefined\" || force === true) {\n    root._bokeh_onload_callbacks = [];\n    root._bokeh_is_loading = undefined;\n  }\n\n  if (typeof (root._bokeh_timeout) === \"undefined\" || force === true) {\n    root._bokeh_timeout = Date.now() + 5000;\n    root._bokeh_failed_load = false;\n  }\n\n  function run_callbacks() {\n    try {\n      root._bokeh_onload_callbacks.forEach(function(callback) {\n        if (callback != null)\n          callback();\n      });\n    } finally {\n      delete root._bokeh_onload_callbacks\n    }\n    console.debug(\"Bokeh: all callbacks have finished\");\n  }\n\n  function load_libs(css_urls, js_urls, js_modules, callback) {\n    if (css_urls == null) css_urls = [];\n    if (js_urls == null) js_urls = [];\n    if (js_modules == null) js_modules = [];\n\n    root._bokeh_onload_callbacks.push(callback);\n    if (root._bokeh_is_loading > 0) {\n      console.debug(\"Bokeh: BokehJS is being loaded, scheduling callback at\", now());\n      return null;\n    }\n    if (js_urls.length === 0 && js_modules.length === 0) {\n      run_callbacks();\n      return null;\n    }\n    console.debug(\"Bokeh: BokehJS not loaded, scheduling load and callback at\", now());\n    root._bokeh_is_loading = css_urls.length + js_urls.length + js_modules.length;\n\n    function on_load() {\n      root._bokeh_is_loading--;\n      if (root._bokeh_is_loading === 0) {\n        console.debug(\"Bokeh: all BokehJS libraries/stylesheets loaded\");\n        run_callbacks()\n      }\n    }\n\n    function on_error() {\n      console.error(\"failed to load \" + url);\n    }\n\n    for (var i = 0; i < css_urls.length; i++) {\n      var url = css_urls[i];\n      const element = document.createElement(\"link\");\n      element.onload = on_load;\n      element.onerror = on_error;\n      element.rel = \"stylesheet\";\n      element.type = \"text/css\";\n      element.href = url;\n      console.debug(\"Bokeh: injecting link tag for BokehJS stylesheet: \", url);\n      document.body.appendChild(element);\n    }\n\n    var skip = [];\n    if (window.requirejs) {\n      window.requirejs.config({'packages': {}, 'paths': {}, 'shim': {}});\n      \n    }\n    for (var i = 0; i < js_urls.length; i++) {\n      var url = js_urls[i];\n      if (skip.indexOf(url) >= 0) { on_load(); continue; }\n      var element = document.createElement('script');\n      element.onload = on_load;\n      element.onerror = on_error;\n      element.async = false;\n      element.src = url;\n      console.debug(\"Bokeh: injecting script tag for BokehJS library: \", url);\n      document.head.appendChild(element);\n    }\n    for (var i = 0; i < js_modules.length; i++) {\n      var url = js_modules[i];\n      if (skip.indexOf(url) >= 0) { on_load(); continue; }\n      var element = document.createElement('script');\n      element.onload = on_load;\n      element.onerror = on_error;\n      element.async = false;\n      element.src = url;\n      element.type = \"module\";\n      console.debug(\"Bokeh: injecting script tag for BokehJS library: \", url);\n      document.head.appendChild(element);\n    }\n    if (!js_urls.length && !js_modules.length) {\n      on_load()\n    }\n  };\n\n  function inject_raw_css(css) {\n    const element = document.createElement(\"style\");\n    element.appendChild(document.createTextNode(css));\n    document.body.appendChild(element);\n  }\n\n  var js_urls = [\"https://cdn.bokeh.org/bokeh/release/bokeh-2.3.3.min.js\", \"https://cdn.bokeh.org/bokeh/release/bokeh-widgets-2.3.3.min.js\", \"https://cdn.bokeh.org/bokeh/release/bokeh-tables-2.3.3.min.js\", \"https://unpkg.com/@holoviz/panel@0.12.1/dist/panel.min.js\"];\n  var js_modules = [];\n  var css_urls = [\"https://unpkg.com/@holoviz/panel@0.12.1/dist/css/card.css\", \"https://unpkg.com/@holoviz/panel@0.12.1/dist/css/dataframe.css\", \"https://unpkg.com/@holoviz/panel@0.12.1/dist/css/json.css\", \"https://unpkg.com/@holoviz/panel@0.12.1/dist/css/loading.css\", \"https://unpkg.com/@holoviz/panel@0.12.1/dist/css/alerts.css\", \"https://unpkg.com/@holoviz/panel@0.12.1/dist/css/markdown.css\", \"https://unpkg.com/@holoviz/panel@0.12.1/dist/css/widgets.css\"];\n  var inline_js = [\n    function(Bokeh) {\n      inject_raw_css(\"\\n    .bk.pn-loading.arcs:before {\\n      background-image: url(\\\"data:image/svg+xml;base64,PHN2ZyB4bWxucz0iaHR0cDovL3d3dy53My5vcmcvMjAwMC9zdmciIHhtbG5zOnhsaW5rPSJodHRwOi8vd3d3LnczLm9yZy8xOTk5L3hsaW5rIiBzdHlsZT0ibWFyZ2luOiBhdXRvOyBiYWNrZ3JvdW5kOiBub25lOyBkaXNwbGF5OiBibG9jazsgc2hhcGUtcmVuZGVyaW5nOiBhdXRvOyIgdmlld0JveD0iMCAwIDEwMCAxMDAiIHByZXNlcnZlQXNwZWN0UmF0aW89InhNaWRZTWlkIj4gIDxjaXJjbGUgY3g9IjUwIiBjeT0iNTAiIHI9IjMyIiBzdHJva2Utd2lkdGg9IjgiIHN0cm9rZT0iI2MzYzNjMyIgc3Ryb2tlLWRhc2hhcnJheT0iNTAuMjY1NDgyNDU3NDM2NjkgNTAuMjY1NDgyNDU3NDM2NjkiIGZpbGw9Im5vbmUiIHN0cm9rZS1saW5lY2FwPSJyb3VuZCI+ICAgIDxhbmltYXRlVHJhbnNmb3JtIGF0dHJpYnV0ZU5hbWU9InRyYW5zZm9ybSIgdHlwZT0icm90YXRlIiByZXBlYXRDb3VudD0iaW5kZWZpbml0ZSIgZHVyPSIxcyIga2V5VGltZXM9IjA7MSIgdmFsdWVzPSIwIDUwIDUwOzM2MCA1MCA1MCI+PC9hbmltYXRlVHJhbnNmb3JtPiAgPC9jaXJjbGU+PC9zdmc+\\\")\\n    }\\n    \");\n    },\n    function(Bokeh) {\n      Bokeh.set_log_level(\"info\");\n    },\n    function(Bokeh) {} // ensure no trailing comma for IE\n  ];\n\n  function run_inline_js() {\n    if ((root.Bokeh !== undefined) || (force === true)) {\n      for (var i = 0; i < inline_js.length; i++) {\n        inline_js[i].call(root, root.Bokeh);\n      }} else if (Date.now() < root._bokeh_timeout) {\n      setTimeout(run_inline_js, 100);\n    } else if (!root._bokeh_failed_load) {\n      console.log(\"Bokeh: BokehJS failed to load within specified timeout.\");\n      root._bokeh_failed_load = true;\n    }\n  }\n\n  if (root._bokeh_is_loading === 0) {\n    console.debug(\"Bokeh: BokehJS loaded, going straight to plotting\");\n    run_inline_js();\n  } else {\n    load_libs(css_urls, js_urls, js_modules, function() {\n      console.debug(\"Bokeh: BokehJS plotting callback run at\", now());\n      run_inline_js();\n    });\n  }\n}(window));"
          },
          "metadata": {}
        },
        {
          "output_type": "display_data",
          "data": {
            "application/vnd.holoviews_load.v0+json": "\nif ((window.PyViz === undefined) || (window.PyViz instanceof HTMLElement)) {\n  window.PyViz = {comms: {}, comm_status:{}, kernels:{}, receivers: {}, plot_index: []}\n}\n\n\n    function JupyterCommManager() {\n    }\n\n    JupyterCommManager.prototype.register_target = function(plot_id, comm_id, msg_handler) {\n      if (window.comm_manager || ((window.Jupyter !== undefined) && (Jupyter.notebook.kernel != null))) {\n        var comm_manager = window.comm_manager || Jupyter.notebook.kernel.comm_manager;\n        comm_manager.register_target(comm_id, function(comm) {\n          comm.on_msg(msg_handler);\n        });\n      } else if ((plot_id in window.PyViz.kernels) && (window.PyViz.kernels[plot_id])) {\n        window.PyViz.kernels[plot_id].registerCommTarget(comm_id, function(comm) {\n          comm.onMsg = msg_handler;\n        });\n      } else if (typeof google != 'undefined' && google.colab.kernel != null) {\n        google.colab.kernel.comms.registerTarget(comm_id, (comm) => {\n          var messages = comm.messages[Symbol.asyncIterator]();\n          function processIteratorResult(result) {\n            var message = result.value;\n            console.log(message)\n            var content = {data: message.data, comm_id};\n            var buffers = []\n            for (var buffer of message.buffers || []) {\n              buffers.push(new DataView(buffer))\n            }\n            var metadata = message.metadata || {};\n            var msg = {content, buffers, metadata}\n            msg_handler(msg);\n            return messages.next().then(processIteratorResult);\n          }\n          return messages.next().then(processIteratorResult);\n        })\n      }\n    }\n\n    JupyterCommManager.prototype.get_client_comm = function(plot_id, comm_id, msg_handler) {\n      if (comm_id in window.PyViz.comms) {\n        return window.PyViz.comms[comm_id];\n      } else if (window.comm_manager || ((window.Jupyter !== undefined) && (Jupyter.notebook.kernel != null))) {\n        var comm_manager = window.comm_manager || Jupyter.notebook.kernel.comm_manager;\n        var comm = comm_manager.new_comm(comm_id, {}, {}, {}, comm_id);\n        if (msg_handler) {\n          comm.on_msg(msg_handler);\n        }\n      } else if ((plot_id in window.PyViz.kernels) && (window.PyViz.kernels[plot_id])) {\n        var comm = window.PyViz.kernels[plot_id].connectToComm(comm_id);\n        comm.open();\n        if (msg_handler) {\n          comm.onMsg = msg_handler;\n        }\n      } else if (typeof google != 'undefined' && google.colab.kernel != null) {\n        var comm_promise = google.colab.kernel.comms.open(comm_id)\n        comm_promise.then((comm) => {\n          window.PyViz.comms[comm_id] = comm;\n          if (msg_handler) {\n            var messages = comm.messages[Symbol.asyncIterator]();\n            function processIteratorResult(result) {\n              var message = result.value;\n              var content = {data: message.data};\n              var metadata = message.metadata || {comm_id};\n              var msg = {content, metadata}\n              msg_handler(msg);\n              return messages.next().then(processIteratorResult);\n            }\n            return messages.next().then(processIteratorResult);\n          }\n        }) \n        var sendClosure = (data, metadata, buffers, disposeOnDone) => {\n          return comm_promise.then((comm) => {\n            comm.send(data, metadata, buffers, disposeOnDone);\n          });\n        };\n        var comm = {\n          send: sendClosure\n        };\n      }\n      window.PyViz.comms[comm_id] = comm;\n      return comm;\n    }\n    window.PyViz.comm_manager = new JupyterCommManager();\n    \n\n\nvar JS_MIME_TYPE = 'application/javascript';\nvar HTML_MIME_TYPE = 'text/html';\nvar EXEC_MIME_TYPE = 'application/vnd.holoviews_exec.v0+json';\nvar CLASS_NAME = 'output';\n\n/**\n * Render data to the DOM node\n */\nfunction render(props, node) {\n  var div = document.createElement(\"div\");\n  var script = document.createElement(\"script\");\n  node.appendChild(div);\n  node.appendChild(script);\n}\n\n/**\n * Handle when a new output is added\n */\nfunction handle_add_output(event, handle) {\n  var output_area = handle.output_area;\n  var output = handle.output;\n  if ((output.data == undefined) || (!output.data.hasOwnProperty(EXEC_MIME_TYPE))) {\n    return\n  }\n  var id = output.metadata[EXEC_MIME_TYPE][\"id\"];\n  var toinsert = output_area.element.find(\".\" + CLASS_NAME.split(' ')[0]);\n  if (id !== undefined) {\n    var nchildren = toinsert.length;\n    var html_node = toinsert[nchildren-1].children[0];\n    html_node.innerHTML = output.data[HTML_MIME_TYPE];\n    var scripts = [];\n    var nodelist = html_node.querySelectorAll(\"script\");\n    for (var i in nodelist) {\n      if (nodelist.hasOwnProperty(i)) {\n        scripts.push(nodelist[i])\n      }\n    }\n\n    scripts.forEach( function (oldScript) {\n      var newScript = document.createElement(\"script\");\n      var attrs = [];\n      var nodemap = oldScript.attributes;\n      for (var j in nodemap) {\n        if (nodemap.hasOwnProperty(j)) {\n          attrs.push(nodemap[j])\n        }\n      }\n      attrs.forEach(function(attr) { newScript.setAttribute(attr.name, attr.value) });\n      newScript.appendChild(document.createTextNode(oldScript.innerHTML));\n      oldScript.parentNode.replaceChild(newScript, oldScript);\n    });\n    if (JS_MIME_TYPE in output.data) {\n      toinsert[nchildren-1].children[1].textContent = output.data[JS_MIME_TYPE];\n    }\n    output_area._hv_plot_id = id;\n    if ((window.Bokeh !== undefined) && (id in Bokeh.index)) {\n      window.PyViz.plot_index[id] = Bokeh.index[id];\n    } else {\n      window.PyViz.plot_index[id] = null;\n    }\n  } else if (output.metadata[EXEC_MIME_TYPE][\"server_id\"] !== undefined) {\n    var bk_div = document.createElement(\"div\");\n    bk_div.innerHTML = output.data[HTML_MIME_TYPE];\n    var script_attrs = bk_div.children[0].attributes;\n    for (var i = 0; i < script_attrs.length; i++) {\n      toinsert[toinsert.length - 1].childNodes[1].setAttribute(script_attrs[i].name, script_attrs[i].value);\n    }\n    // store reference to server id on output_area\n    output_area._bokeh_server_id = output.metadata[EXEC_MIME_TYPE][\"server_id\"];\n  }\n}\n\n/**\n * Handle when an output is cleared or removed\n */\nfunction handle_clear_output(event, handle) {\n  var id = handle.cell.output_area._hv_plot_id;\n  var server_id = handle.cell.output_area._bokeh_server_id;\n  if (((id === undefined) || !(id in PyViz.plot_index)) && (server_id !== undefined)) { return; }\n  var comm = window.PyViz.comm_manager.get_client_comm(\"hv-extension-comm\", \"hv-extension-comm\", function () {});\n  if (server_id !== null) {\n    comm.send({event_type: 'server_delete', 'id': server_id});\n    return;\n  } else if (comm !== null) {\n    comm.send({event_type: 'delete', 'id': id});\n  }\n  delete PyViz.plot_index[id];\n  if ((window.Bokeh !== undefined) & (id in window.Bokeh.index)) {\n    var doc = window.Bokeh.index[id].model.document\n    doc.clear();\n    const i = window.Bokeh.documents.indexOf(doc);\n    if (i > -1) {\n      window.Bokeh.documents.splice(i, 1);\n    }\n  }\n}\n\n/**\n * Handle kernel restart event\n */\nfunction handle_kernel_cleanup(event, handle) {\n  delete PyViz.comms[\"hv-extension-comm\"];\n  window.PyViz.plot_index = {}\n}\n\n/**\n * Handle update_display_data messages\n */\nfunction handle_update_output(event, handle) {\n  handle_clear_output(event, {cell: {output_area: handle.output_area}})\n  handle_add_output(event, handle)\n}\n\nfunction register_renderer(events, OutputArea) {\n  function append_mime(data, metadata, element) {\n    // create a DOM node to render to\n    var toinsert = this.create_output_subarea(\n    metadata,\n    CLASS_NAME,\n    EXEC_MIME_TYPE\n    );\n    this.keyboard_manager.register_events(toinsert);\n    // Render to node\n    var props = {data: data, metadata: metadata[EXEC_MIME_TYPE]};\n    render(props, toinsert[0]);\n    element.append(toinsert);\n    return toinsert\n  }\n\n  events.on('output_added.OutputArea', handle_add_output);\n  events.on('output_updated.OutputArea', handle_update_output);\n  events.on('clear_output.CodeCell', handle_clear_output);\n  events.on('delete.Cell', handle_clear_output);\n  events.on('kernel_ready.Kernel', handle_kernel_cleanup);\n\n  OutputArea.prototype.register_mime_type(EXEC_MIME_TYPE, append_mime, {\n    safe: true,\n    index: 0\n  });\n}\n\nif (window.Jupyter !== undefined) {\n  try {\n    var events = require('base/js/events');\n    var OutputArea = require('notebook/js/outputarea').OutputArea;\n    if (OutputArea.prototype.mime_types().indexOf(EXEC_MIME_TYPE) == -1) {\n      register_renderer(events, OutputArea);\n    }\n  } catch(err) {\n  }\n}\n",
            "application/javascript": [
              "\n",
              "if ((window.PyViz === undefined) || (window.PyViz instanceof HTMLElement)) {\n",
              "  window.PyViz = {comms: {}, comm_status:{}, kernels:{}, receivers: {}, plot_index: []}\n",
              "}\n",
              "\n",
              "\n",
              "    function JupyterCommManager() {\n",
              "    }\n",
              "\n",
              "    JupyterCommManager.prototype.register_target = function(plot_id, comm_id, msg_handler) {\n",
              "      if (window.comm_manager || ((window.Jupyter !== undefined) && (Jupyter.notebook.kernel != null))) {\n",
              "        var comm_manager = window.comm_manager || Jupyter.notebook.kernel.comm_manager;\n",
              "        comm_manager.register_target(comm_id, function(comm) {\n",
              "          comm.on_msg(msg_handler);\n",
              "        });\n",
              "      } else if ((plot_id in window.PyViz.kernels) && (window.PyViz.kernels[plot_id])) {\n",
              "        window.PyViz.kernels[plot_id].registerCommTarget(comm_id, function(comm) {\n",
              "          comm.onMsg = msg_handler;\n",
              "        });\n",
              "      } else if (typeof google != 'undefined' && google.colab.kernel != null) {\n",
              "        google.colab.kernel.comms.registerTarget(comm_id, (comm) => {\n",
              "          var messages = comm.messages[Symbol.asyncIterator]();\n",
              "          function processIteratorResult(result) {\n",
              "            var message = result.value;\n",
              "            console.log(message)\n",
              "            var content = {data: message.data, comm_id};\n",
              "            var buffers = []\n",
              "            for (var buffer of message.buffers || []) {\n",
              "              buffers.push(new DataView(buffer))\n",
              "            }\n",
              "            var metadata = message.metadata || {};\n",
              "            var msg = {content, buffers, metadata}\n",
              "            msg_handler(msg);\n",
              "            return messages.next().then(processIteratorResult);\n",
              "          }\n",
              "          return messages.next().then(processIteratorResult);\n",
              "        })\n",
              "      }\n",
              "    }\n",
              "\n",
              "    JupyterCommManager.prototype.get_client_comm = function(plot_id, comm_id, msg_handler) {\n",
              "      if (comm_id in window.PyViz.comms) {\n",
              "        return window.PyViz.comms[comm_id];\n",
              "      } else if (window.comm_manager || ((window.Jupyter !== undefined) && (Jupyter.notebook.kernel != null))) {\n",
              "        var comm_manager = window.comm_manager || Jupyter.notebook.kernel.comm_manager;\n",
              "        var comm = comm_manager.new_comm(comm_id, {}, {}, {}, comm_id);\n",
              "        if (msg_handler) {\n",
              "          comm.on_msg(msg_handler);\n",
              "        }\n",
              "      } else if ((plot_id in window.PyViz.kernels) && (window.PyViz.kernels[plot_id])) {\n",
              "        var comm = window.PyViz.kernels[plot_id].connectToComm(comm_id);\n",
              "        comm.open();\n",
              "        if (msg_handler) {\n",
              "          comm.onMsg = msg_handler;\n",
              "        }\n",
              "      } else if (typeof google != 'undefined' && google.colab.kernel != null) {\n",
              "        var comm_promise = google.colab.kernel.comms.open(comm_id)\n",
              "        comm_promise.then((comm) => {\n",
              "          window.PyViz.comms[comm_id] = comm;\n",
              "          if (msg_handler) {\n",
              "            var messages = comm.messages[Symbol.asyncIterator]();\n",
              "            function processIteratorResult(result) {\n",
              "              var message = result.value;\n",
              "              var content = {data: message.data};\n",
              "              var metadata = message.metadata || {comm_id};\n",
              "              var msg = {content, metadata}\n",
              "              msg_handler(msg);\n",
              "              return messages.next().then(processIteratorResult);\n",
              "            }\n",
              "            return messages.next().then(processIteratorResult);\n",
              "          }\n",
              "        }) \n",
              "        var sendClosure = (data, metadata, buffers, disposeOnDone) => {\n",
              "          return comm_promise.then((comm) => {\n",
              "            comm.send(data, metadata, buffers, disposeOnDone);\n",
              "          });\n",
              "        };\n",
              "        var comm = {\n",
              "          send: sendClosure\n",
              "        };\n",
              "      }\n",
              "      window.PyViz.comms[comm_id] = comm;\n",
              "      return comm;\n",
              "    }\n",
              "    window.PyViz.comm_manager = new JupyterCommManager();\n",
              "    \n",
              "\n",
              "\n",
              "var JS_MIME_TYPE = 'application/javascript';\n",
              "var HTML_MIME_TYPE = 'text/html';\n",
              "var EXEC_MIME_TYPE = 'application/vnd.holoviews_exec.v0+json';\n",
              "var CLASS_NAME = 'output';\n",
              "\n",
              "/**\n",
              " * Render data to the DOM node\n",
              " */\n",
              "function render(props, node) {\n",
              "  var div = document.createElement(\"div\");\n",
              "  var script = document.createElement(\"script\");\n",
              "  node.appendChild(div);\n",
              "  node.appendChild(script);\n",
              "}\n",
              "\n",
              "/**\n",
              " * Handle when a new output is added\n",
              " */\n",
              "function handle_add_output(event, handle) {\n",
              "  var output_area = handle.output_area;\n",
              "  var output = handle.output;\n",
              "  if ((output.data == undefined) || (!output.data.hasOwnProperty(EXEC_MIME_TYPE))) {\n",
              "    return\n",
              "  }\n",
              "  var id = output.metadata[EXEC_MIME_TYPE][\"id\"];\n",
              "  var toinsert = output_area.element.find(\".\" + CLASS_NAME.split(' ')[0]);\n",
              "  if (id !== undefined) {\n",
              "    var nchildren = toinsert.length;\n",
              "    var html_node = toinsert[nchildren-1].children[0];\n",
              "    html_node.innerHTML = output.data[HTML_MIME_TYPE];\n",
              "    var scripts = [];\n",
              "    var nodelist = html_node.querySelectorAll(\"script\");\n",
              "    for (var i in nodelist) {\n",
              "      if (nodelist.hasOwnProperty(i)) {\n",
              "        scripts.push(nodelist[i])\n",
              "      }\n",
              "    }\n",
              "\n",
              "    scripts.forEach( function (oldScript) {\n",
              "      var newScript = document.createElement(\"script\");\n",
              "      var attrs = [];\n",
              "      var nodemap = oldScript.attributes;\n",
              "      for (var j in nodemap) {\n",
              "        if (nodemap.hasOwnProperty(j)) {\n",
              "          attrs.push(nodemap[j])\n",
              "        }\n",
              "      }\n",
              "      attrs.forEach(function(attr) { newScript.setAttribute(attr.name, attr.value) });\n",
              "      newScript.appendChild(document.createTextNode(oldScript.innerHTML));\n",
              "      oldScript.parentNode.replaceChild(newScript, oldScript);\n",
              "    });\n",
              "    if (JS_MIME_TYPE in output.data) {\n",
              "      toinsert[nchildren-1].children[1].textContent = output.data[JS_MIME_TYPE];\n",
              "    }\n",
              "    output_area._hv_plot_id = id;\n",
              "    if ((window.Bokeh !== undefined) && (id in Bokeh.index)) {\n",
              "      window.PyViz.plot_index[id] = Bokeh.index[id];\n",
              "    } else {\n",
              "      window.PyViz.plot_index[id] = null;\n",
              "    }\n",
              "  } else if (output.metadata[EXEC_MIME_TYPE][\"server_id\"] !== undefined) {\n",
              "    var bk_div = document.createElement(\"div\");\n",
              "    bk_div.innerHTML = output.data[HTML_MIME_TYPE];\n",
              "    var script_attrs = bk_div.children[0].attributes;\n",
              "    for (var i = 0; i < script_attrs.length; i++) {\n",
              "      toinsert[toinsert.length - 1].childNodes[1].setAttribute(script_attrs[i].name, script_attrs[i].value);\n",
              "    }\n",
              "    // store reference to server id on output_area\n",
              "    output_area._bokeh_server_id = output.metadata[EXEC_MIME_TYPE][\"server_id\"];\n",
              "  }\n",
              "}\n",
              "\n",
              "/**\n",
              " * Handle when an output is cleared or removed\n",
              " */\n",
              "function handle_clear_output(event, handle) {\n",
              "  var id = handle.cell.output_area._hv_plot_id;\n",
              "  var server_id = handle.cell.output_area._bokeh_server_id;\n",
              "  if (((id === undefined) || !(id in PyViz.plot_index)) && (server_id !== undefined)) { return; }\n",
              "  var comm = window.PyViz.comm_manager.get_client_comm(\"hv-extension-comm\", \"hv-extension-comm\", function () {});\n",
              "  if (server_id !== null) {\n",
              "    comm.send({event_type: 'server_delete', 'id': server_id});\n",
              "    return;\n",
              "  } else if (comm !== null) {\n",
              "    comm.send({event_type: 'delete', 'id': id});\n",
              "  }\n",
              "  delete PyViz.plot_index[id];\n",
              "  if ((window.Bokeh !== undefined) & (id in window.Bokeh.index)) {\n",
              "    var doc = window.Bokeh.index[id].model.document\n",
              "    doc.clear();\n",
              "    const i = window.Bokeh.documents.indexOf(doc);\n",
              "    if (i > -1) {\n",
              "      window.Bokeh.documents.splice(i, 1);\n",
              "    }\n",
              "  }\n",
              "}\n",
              "\n",
              "/**\n",
              " * Handle kernel restart event\n",
              " */\n",
              "function handle_kernel_cleanup(event, handle) {\n",
              "  delete PyViz.comms[\"hv-extension-comm\"];\n",
              "  window.PyViz.plot_index = {}\n",
              "}\n",
              "\n",
              "/**\n",
              " * Handle update_display_data messages\n",
              " */\n",
              "function handle_update_output(event, handle) {\n",
              "  handle_clear_output(event, {cell: {output_area: handle.output_area}})\n",
              "  handle_add_output(event, handle)\n",
              "}\n",
              "\n",
              "function register_renderer(events, OutputArea) {\n",
              "  function append_mime(data, metadata, element) {\n",
              "    // create a DOM node to render to\n",
              "    var toinsert = this.create_output_subarea(\n",
              "    metadata,\n",
              "    CLASS_NAME,\n",
              "    EXEC_MIME_TYPE\n",
              "    );\n",
              "    this.keyboard_manager.register_events(toinsert);\n",
              "    // Render to node\n",
              "    var props = {data: data, metadata: metadata[EXEC_MIME_TYPE]};\n",
              "    render(props, toinsert[0]);\n",
              "    element.append(toinsert);\n",
              "    return toinsert\n",
              "  }\n",
              "\n",
              "  events.on('output_added.OutputArea', handle_add_output);\n",
              "  events.on('output_updated.OutputArea', handle_update_output);\n",
              "  events.on('clear_output.CodeCell', handle_clear_output);\n",
              "  events.on('delete.Cell', handle_clear_output);\n",
              "  events.on('kernel_ready.Kernel', handle_kernel_cleanup);\n",
              "\n",
              "  OutputArea.prototype.register_mime_type(EXEC_MIME_TYPE, append_mime, {\n",
              "    safe: true,\n",
              "    index: 0\n",
              "  });\n",
              "}\n",
              "\n",
              "if (window.Jupyter !== undefined) {\n",
              "  try {\n",
              "    var events = require('base/js/events');\n",
              "    var OutputArea = require('notebook/js/outputarea').OutputArea;\n",
              "    if (OutputArea.prototype.mime_types().indexOf(EXEC_MIME_TYPE) == -1) {\n",
              "      register_renderer(events, OutputArea);\n",
              "    }\n",
              "  } catch(err) {\n",
              "  }\n",
              "}\n"
            ]
          },
          "metadata": {}
        }
      ]
    },
    {
      "cell_type": "code",
      "source": [
        "# Dataset URL Parameters\n",
        "DOWNLOAD_ROOT = 'https://raw.githubusercontent.com/muga01/TMAWrapper/main/'\n",
        "DATASET_PATH = 'dataset'\n",
        "DATASET_TOKEN ='token=GHSAT0AAAAAABVV3RXUBBRPTI7KBVQWYV2MYXLOTPA'\n",
        "DATASET_URL = DOWNLOAD_ROOT + 'dataset/string_pattern_matching.csv?'+DATASET_TOKEN\n",
        "\n",
        "def fetch_matching_data(dataset_source=DATASET_URL,dataset_dest=DATASET_PATH):\n",
        "    os.makedirs(dataset_dest,exist_ok=True)\n",
        "    dataset_file_name = os.path.join(dataset_dest,'string_pattern_matching.csv')\n",
        "    data = urllib.request.urlretrieve(dataset_source,dataset_file_name)\n",
        "\n",
        "def load_matching_data(data_source_path=DATASET_PATH):\n",
        "    csv_path = os.path.join(data_source_path,'string_pattern_matching.csv')\n",
        "    return pd.read_csv(csv_path)"
      ],
      "metadata": {
        "id": "3HT4FewlUzpI"
      },
      "execution_count": null,
      "outputs": []
    },
    {
      "cell_type": "code",
      "source": [
        "# Where to save the figures\n",
        "PROJECT_ROOT_DIR = \".\"\n",
        "CHAPTER_ID = \"Experiments\"\n",
        "IMAGES_PATH = os.path.join(PROJECT_ROOT_DIR, \"images\", CHAPTER_ID)\n",
        "os.makedirs(IMAGES_PATH, exist_ok=True)\n",
        "\n",
        "def save_fig(fig_id, tight_layout=True, fig_extension=\"png\", resolution=300):\n",
        "    path = os.path.join(IMAGES_PATH, fig_id + \".\" + fig_extension)\n",
        "    print(\"Saving figure\", fig_id)\n",
        "    if tight_layout:\n",
        "        plt.tight_layout()\n",
        "    plt.savefig(path, format=fig_extension, dpi=resolution)"
      ],
      "metadata": {
        "id": "0TIbiFY2gdI_"
      },
      "execution_count": null,
      "outputs": []
    },
    {
      "cell_type": "code",
      "source": [
        "fetch_matching_data()\n",
        "matching_data = load_matching_data()\n",
        "matching_data.head()"
      ],
      "metadata": {
        "colab": {
          "base_uri": "https://localhost:8080/",
          "height": 268
        },
        "id": "OafCMwY7bq9D",
        "outputId": "90943c9a-1ac6-446c-c1fd-53e9920c0a2a"
      },
      "execution_count": null,
      "outputs": [
        {
          "output_type": "execute_result",
          "data": {
            "text/plain": [
              "  Category  Text Size [MB]  Pattern Length  Alphabet Size  Time [ms]  \\\n",
              "0    rand2             1.0               2            2.0       0.00   \n",
              "1    rand2             1.0               4            2.0      14.37   \n",
              "2    rand2             1.0               8            2.0       6.56   \n",
              "3    rand2             1.0              16            2.0       1.83   \n",
              "4    rand2             1.0              32            2.0       1.33   \n",
              "\n",
              "  Algorithm Best Algo  \n",
              "0     AOSO2       NaN  \n",
              "1     AOSO2       NaN  \n",
              "2     AOSO2       NaN  \n",
              "3     AOSO2       NaN  \n",
              "4     AOSO2       NaN  "
            ],
            "text/html": [
              "\n",
              "  <div id=\"df-1a999d27-1742-4a50-9104-411c3d58f154\">\n",
              "    <div class=\"colab-df-container\">\n",
              "      <div>\n",
              "<style scoped>\n",
              "    .dataframe tbody tr th:only-of-type {\n",
              "        vertical-align: middle;\n",
              "    }\n",
              "\n",
              "    .dataframe tbody tr th {\n",
              "        vertical-align: top;\n",
              "    }\n",
              "\n",
              "    .dataframe thead th {\n",
              "        text-align: right;\n",
              "    }\n",
              "</style>\n",
              "<table border=\"1\" class=\"dataframe\">\n",
              "  <thead>\n",
              "    <tr style=\"text-align: right;\">\n",
              "      <th></th>\n",
              "      <th>Category</th>\n",
              "      <th>Text Size [MB]</th>\n",
              "      <th>Pattern Length</th>\n",
              "      <th>Alphabet Size</th>\n",
              "      <th>Time [ms]</th>\n",
              "      <th>Algorithm</th>\n",
              "      <th>Best Algo</th>\n",
              "    </tr>\n",
              "  </thead>\n",
              "  <tbody>\n",
              "    <tr>\n",
              "      <th>0</th>\n",
              "      <td>rand2</td>\n",
              "      <td>1.0</td>\n",
              "      <td>2</td>\n",
              "      <td>2.0</td>\n",
              "      <td>0.00</td>\n",
              "      <td>AOSO2</td>\n",
              "      <td>NaN</td>\n",
              "    </tr>\n",
              "    <tr>\n",
              "      <th>1</th>\n",
              "      <td>rand2</td>\n",
              "      <td>1.0</td>\n",
              "      <td>4</td>\n",
              "      <td>2.0</td>\n",
              "      <td>14.37</td>\n",
              "      <td>AOSO2</td>\n",
              "      <td>NaN</td>\n",
              "    </tr>\n",
              "    <tr>\n",
              "      <th>2</th>\n",
              "      <td>rand2</td>\n",
              "      <td>1.0</td>\n",
              "      <td>8</td>\n",
              "      <td>2.0</td>\n",
              "      <td>6.56</td>\n",
              "      <td>AOSO2</td>\n",
              "      <td>NaN</td>\n",
              "    </tr>\n",
              "    <tr>\n",
              "      <th>3</th>\n",
              "      <td>rand2</td>\n",
              "      <td>1.0</td>\n",
              "      <td>16</td>\n",
              "      <td>2.0</td>\n",
              "      <td>1.83</td>\n",
              "      <td>AOSO2</td>\n",
              "      <td>NaN</td>\n",
              "    </tr>\n",
              "    <tr>\n",
              "      <th>4</th>\n",
              "      <td>rand2</td>\n",
              "      <td>1.0</td>\n",
              "      <td>32</td>\n",
              "      <td>2.0</td>\n",
              "      <td>1.33</td>\n",
              "      <td>AOSO2</td>\n",
              "      <td>NaN</td>\n",
              "    </tr>\n",
              "  </tbody>\n",
              "</table>\n",
              "</div>\n",
              "      <button class=\"colab-df-convert\" onclick=\"convertToInteractive('df-1a999d27-1742-4a50-9104-411c3d58f154')\"\n",
              "              title=\"Convert this dataframe to an interactive table.\"\n",
              "              style=\"display:none;\">\n",
              "        \n",
              "  <svg xmlns=\"http://www.w3.org/2000/svg\" height=\"24px\"viewBox=\"0 0 24 24\"\n",
              "       width=\"24px\">\n",
              "    <path d=\"M0 0h24v24H0V0z\" fill=\"none\"/>\n",
              "    <path d=\"M18.56 5.44l.94 2.06.94-2.06 2.06-.94-2.06-.94-.94-2.06-.94 2.06-2.06.94zm-11 1L8.5 8.5l.94-2.06 2.06-.94-2.06-.94L8.5 2.5l-.94 2.06-2.06.94zm10 10l.94 2.06.94-2.06 2.06-.94-2.06-.94-.94-2.06-.94 2.06-2.06.94z\"/><path d=\"M17.41 7.96l-1.37-1.37c-.4-.4-.92-.59-1.43-.59-.52 0-1.04.2-1.43.59L10.3 9.45l-7.72 7.72c-.78.78-.78 2.05 0 2.83L4 21.41c.39.39.9.59 1.41.59.51 0 1.02-.2 1.41-.59l7.78-7.78 2.81-2.81c.8-.78.8-2.07 0-2.86zM5.41 20L4 18.59l7.72-7.72 1.47 1.35L5.41 20z\"/>\n",
              "  </svg>\n",
              "      </button>\n",
              "      \n",
              "  <style>\n",
              "    .colab-df-container {\n",
              "      display:flex;\n",
              "      flex-wrap:wrap;\n",
              "      gap: 12px;\n",
              "    }\n",
              "\n",
              "    .colab-df-convert {\n",
              "      background-color: #E8F0FE;\n",
              "      border: none;\n",
              "      border-radius: 50%;\n",
              "      cursor: pointer;\n",
              "      display: none;\n",
              "      fill: #1967D2;\n",
              "      height: 32px;\n",
              "      padding: 0 0 0 0;\n",
              "      width: 32px;\n",
              "    }\n",
              "\n",
              "    .colab-df-convert:hover {\n",
              "      background-color: #E2EBFA;\n",
              "      box-shadow: 0px 1px 2px rgba(60, 64, 67, 0.3), 0px 1px 3px 1px rgba(60, 64, 67, 0.15);\n",
              "      fill: #174EA6;\n",
              "    }\n",
              "\n",
              "    [theme=dark] .colab-df-convert {\n",
              "      background-color: #3B4455;\n",
              "      fill: #D2E3FC;\n",
              "    }\n",
              "\n",
              "    [theme=dark] .colab-df-convert:hover {\n",
              "      background-color: #434B5C;\n",
              "      box-shadow: 0px 1px 3px 1px rgba(0, 0, 0, 0.15);\n",
              "      filter: drop-shadow(0px 1px 2px rgba(0, 0, 0, 0.3));\n",
              "      fill: #FFFFFF;\n",
              "    }\n",
              "  </style>\n",
              "\n",
              "      <script>\n",
              "        const buttonEl =\n",
              "          document.querySelector('#df-1a999d27-1742-4a50-9104-411c3d58f154 button.colab-df-convert');\n",
              "        buttonEl.style.display =\n",
              "          google.colab.kernel.accessAllowed ? 'block' : 'none';\n",
              "\n",
              "        async function convertToInteractive(key) {\n",
              "          const element = document.querySelector('#df-1a999d27-1742-4a50-9104-411c3d58f154');\n",
              "          const dataTable =\n",
              "            await google.colab.kernel.invokeFunction('convertToInteractive',\n",
              "                                                     [key], {});\n",
              "          if (!dataTable) return;\n",
              "\n",
              "          const docLinkHtml = 'Like what you see? Visit the ' +\n",
              "            '<a target=\"_blank\" href=https://colab.research.google.com/notebooks/data_table.ipynb>data table notebook</a>'\n",
              "            + ' to learn more about interactive tables.';\n",
              "          element.innerHTML = '';\n",
              "          dataTable['output_type'] = 'display_data';\n",
              "          await google.colab.output.renderOutput(dataTable, element);\n",
              "          const docLink = document.createElement('div');\n",
              "          docLink.innerHTML = docLinkHtml;\n",
              "          element.appendChild(docLink);\n",
              "        }\n",
              "      </script>\n",
              "    </div>\n",
              "  </div>\n",
              "  "
            ]
          },
          "metadata": {},
          "execution_count": 5
        }
      ]
    },
    {
      "cell_type": "markdown",
      "source": [
        "## Data Cleaning"
      ],
      "metadata": {
        "id": "GAl_h3jVDVn1"
      }
    },
    {
      "cell_type": "code",
      "source": [
        "matching_data.info()"
      ],
      "metadata": {
        "colab": {
          "base_uri": "https://localhost:8080/"
        },
        "id": "zBX0jZwmehpf",
        "outputId": "e9a3bf85-1fde-4c56-ab71-b7e6b4e0f10a"
      },
      "execution_count": null,
      "outputs": [
        {
          "output_type": "stream",
          "name": "stdout",
          "text": [
            "<class 'pandas.core.frame.DataFrame'>\n",
            "RangeIndex: 8640 entries, 0 to 8639\n",
            "Data columns (total 7 columns):\n",
            " #   Column          Non-Null Count  Dtype  \n",
            "---  ------          --------------  -----  \n",
            " 0   Category        8640 non-null   object \n",
            " 1   Text Size [MB]  8640 non-null   float64\n",
            " 2   Pattern Length  8640 non-null   int64  \n",
            " 3   Alphabet Size   8640 non-null   float64\n",
            " 4   Time [ms]       8640 non-null   float64\n",
            " 5   Algorithm       8640 non-null   object \n",
            " 6   Best Algo       488 non-null    object \n",
            "dtypes: float64(3), int64(1), object(3)\n",
            "memory usage: 472.6+ KB\n"
          ]
        }
      ]
    },
    {
      "cell_type": "markdown",
      "source": [
        "We observe the column Best Algo missing some values. This is intentional as for each test experiment that is for different combinations of [text category, text size, pattern length, alphabet size] each algorithm reports it's speed and among all those speeds the best one is placed under the column Best Algo. We will train our model based on Best Algo label."
      ],
      "metadata": {
        "id": "-gQaU_K2e6Iw"
      }
    },
    {
      "cell_type": "markdown",
      "source": [
        "# Data Exploration and Visualization"
      ],
      "metadata": {
        "id": "xrlEc0qL7gY3"
      }
    },
    {
      "cell_type": "markdown",
      "source": [
        "## Dataset High Level Information"
      ],
      "metadata": {
        "id": "YsBtFHookSLB"
      }
    },
    {
      "cell_type": "code",
      "source": [
        "matching_data.info()"
      ],
      "metadata": {
        "colab": {
          "base_uri": "https://localhost:8080/"
        },
        "id": "7bhmrpP5kYOf",
        "outputId": "e85bbd8c-4180-420a-b406-9a93d989795f"
      },
      "execution_count": null,
      "outputs": [
        {
          "output_type": "stream",
          "name": "stdout",
          "text": [
            "<class 'pandas.core.frame.DataFrame'>\n",
            "RangeIndex: 8640 entries, 0 to 8639\n",
            "Data columns (total 7 columns):\n",
            " #   Column          Non-Null Count  Dtype  \n",
            "---  ------          --------------  -----  \n",
            " 0   Category        8640 non-null   object \n",
            " 1   Text Size [MB]  8640 non-null   float64\n",
            " 2   Pattern Length  8640 non-null   int64  \n",
            " 3   Alphabet Size   8640 non-null   float64\n",
            " 4   Time [ms]       8640 non-null   float64\n",
            " 5   Algorithm       8640 non-null   object \n",
            " 6   Best Algo       488 non-null    object \n",
            "dtypes: float64(3), int64(1), object(3)\n",
            "memory usage: 472.6+ KB\n"
          ]
        }
      ]
    },
    {
      "cell_type": "markdown",
      "source": [
        "\n",
        "\n",
        "*   The dataset contains 8640 instances with 7 columns.\n",
        "*   The dataset has 4 numerical and 3 categorical/string attributes\n",
        "*The Best Algo column has null values.\n",
        "\n"
      ],
      "metadata": {
        "id": "gUa-u6OokoIB"
      }
    },
    {
      "cell_type": "markdown",
      "source": [
        "## Statistical distribution of numerical attributes"
      ],
      "metadata": {
        "id": "LSXqjPksi5uZ"
      }
    },
    {
      "cell_type": "code",
      "source": [
        "matching_data.describe()"
      ],
      "metadata": {
        "colab": {
          "base_uri": "https://localhost:8080/"
        },
        "id": "s3ApjgcTjOHT",
        "outputId": "59f46e7d-c731-44f1-bc80-ec4e8927a463"
      },
      "execution_count": null,
      "outputs": [
        {
          "output_type": "execute_result",
          "data": {
            "text/plain": [
              "       Text Size [MB]  Pattern Length  Alphabet Size    Time [ms]\n",
              "count      8640.00000     8640.000000     8640.00000  8640.000000\n",
              "mean         16.50000      204.600000       74.00000    51.541698\n",
              "std          19.60343      312.985907       70.47393   123.266517\n",
              "min           1.00000        2.000000        2.00000     0.000000\n",
              "25%           4.00000        8.000000       14.00000     2.520000\n",
              "50%           7.50000       48.000000       64.00000     9.810000\n",
              "75%          20.00000      256.000000      128.00000    41.532500\n",
              "max          50.00000     1024.000000      250.00000  1554.760000"
            ],
            "text/html": [
              "\n",
              "  <div id=\"df-d3149af9-1aee-417d-bc78-2c66b27a0b36\">\n",
              "    <div class=\"colab-df-container\">\n",
              "      <div>\n",
              "<style scoped>\n",
              "    .dataframe tbody tr th:only-of-type {\n",
              "        vertical-align: middle;\n",
              "    }\n",
              "\n",
              "    .dataframe tbody tr th {\n",
              "        vertical-align: top;\n",
              "    }\n",
              "\n",
              "    .dataframe thead th {\n",
              "        text-align: right;\n",
              "    }\n",
              "</style>\n",
              "<table border=\"1\" class=\"dataframe\">\n",
              "  <thead>\n",
              "    <tr style=\"text-align: right;\">\n",
              "      <th></th>\n",
              "      <th>Text Size [MB]</th>\n",
              "      <th>Pattern Length</th>\n",
              "      <th>Alphabet Size</th>\n",
              "      <th>Time [ms]</th>\n",
              "    </tr>\n",
              "  </thead>\n",
              "  <tbody>\n",
              "    <tr>\n",
              "      <th>count</th>\n",
              "      <td>8640.00000</td>\n",
              "      <td>8640.000000</td>\n",
              "      <td>8640.00000</td>\n",
              "      <td>8640.000000</td>\n",
              "    </tr>\n",
              "    <tr>\n",
              "      <th>mean</th>\n",
              "      <td>16.50000</td>\n",
              "      <td>204.600000</td>\n",
              "      <td>74.00000</td>\n",
              "      <td>51.541698</td>\n",
              "    </tr>\n",
              "    <tr>\n",
              "      <th>std</th>\n",
              "      <td>19.60343</td>\n",
              "      <td>312.985907</td>\n",
              "      <td>70.47393</td>\n",
              "      <td>123.266517</td>\n",
              "    </tr>\n",
              "    <tr>\n",
              "      <th>min</th>\n",
              "      <td>1.00000</td>\n",
              "      <td>2.000000</td>\n",
              "      <td>2.00000</td>\n",
              "      <td>0.000000</td>\n",
              "    </tr>\n",
              "    <tr>\n",
              "      <th>25%</th>\n",
              "      <td>4.00000</td>\n",
              "      <td>8.000000</td>\n",
              "      <td>14.00000</td>\n",
              "      <td>2.520000</td>\n",
              "    </tr>\n",
              "    <tr>\n",
              "      <th>50%</th>\n",
              "      <td>7.50000</td>\n",
              "      <td>48.000000</td>\n",
              "      <td>64.00000</td>\n",
              "      <td>9.810000</td>\n",
              "    </tr>\n",
              "    <tr>\n",
              "      <th>75%</th>\n",
              "      <td>20.00000</td>\n",
              "      <td>256.000000</td>\n",
              "      <td>128.00000</td>\n",
              "      <td>41.532500</td>\n",
              "    </tr>\n",
              "    <tr>\n",
              "      <th>max</th>\n",
              "      <td>50.00000</td>\n",
              "      <td>1024.000000</td>\n",
              "      <td>250.00000</td>\n",
              "      <td>1554.760000</td>\n",
              "    </tr>\n",
              "  </tbody>\n",
              "</table>\n",
              "</div>\n",
              "      <button class=\"colab-df-convert\" onclick=\"convertToInteractive('df-d3149af9-1aee-417d-bc78-2c66b27a0b36')\"\n",
              "              title=\"Convert this dataframe to an interactive table.\"\n",
              "              style=\"display:none;\">\n",
              "        \n",
              "  <svg xmlns=\"http://www.w3.org/2000/svg\" height=\"24px\"viewBox=\"0 0 24 24\"\n",
              "       width=\"24px\">\n",
              "    <path d=\"M0 0h24v24H0V0z\" fill=\"none\"/>\n",
              "    <path d=\"M18.56 5.44l.94 2.06.94-2.06 2.06-.94-2.06-.94-.94-2.06-.94 2.06-2.06.94zm-11 1L8.5 8.5l.94-2.06 2.06-.94-2.06-.94L8.5 2.5l-.94 2.06-2.06.94zm10 10l.94 2.06.94-2.06 2.06-.94-2.06-.94-.94-2.06-.94 2.06-2.06.94z\"/><path d=\"M17.41 7.96l-1.37-1.37c-.4-.4-.92-.59-1.43-.59-.52 0-1.04.2-1.43.59L10.3 9.45l-7.72 7.72c-.78.78-.78 2.05 0 2.83L4 21.41c.39.39.9.59 1.41.59.51 0 1.02-.2 1.41-.59l7.78-7.78 2.81-2.81c.8-.78.8-2.07 0-2.86zM5.41 20L4 18.59l7.72-7.72 1.47 1.35L5.41 20z\"/>\n",
              "  </svg>\n",
              "      </button>\n",
              "      \n",
              "  <style>\n",
              "    .colab-df-container {\n",
              "      display:flex;\n",
              "      flex-wrap:wrap;\n",
              "      gap: 12px;\n",
              "    }\n",
              "\n",
              "    .colab-df-convert {\n",
              "      background-color: #E8F0FE;\n",
              "      border: none;\n",
              "      border-radius: 50%;\n",
              "      cursor: pointer;\n",
              "      display: none;\n",
              "      fill: #1967D2;\n",
              "      height: 32px;\n",
              "      padding: 0 0 0 0;\n",
              "      width: 32px;\n",
              "    }\n",
              "\n",
              "    .colab-df-convert:hover {\n",
              "      background-color: #E2EBFA;\n",
              "      box-shadow: 0px 1px 2px rgba(60, 64, 67, 0.3), 0px 1px 3px 1px rgba(60, 64, 67, 0.15);\n",
              "      fill: #174EA6;\n",
              "    }\n",
              "\n",
              "    [theme=dark] .colab-df-convert {\n",
              "      background-color: #3B4455;\n",
              "      fill: #D2E3FC;\n",
              "    }\n",
              "\n",
              "    [theme=dark] .colab-df-convert:hover {\n",
              "      background-color: #434B5C;\n",
              "      box-shadow: 0px 1px 3px 1px rgba(0, 0, 0, 0.15);\n",
              "      filter: drop-shadow(0px 1px 2px rgba(0, 0, 0, 0.3));\n",
              "      fill: #FFFFFF;\n",
              "    }\n",
              "  </style>\n",
              "\n",
              "      <script>\n",
              "        const buttonEl =\n",
              "          document.querySelector('#df-d3149af9-1aee-417d-bc78-2c66b27a0b36 button.colab-df-convert');\n",
              "        buttonEl.style.display =\n",
              "          google.colab.kernel.accessAllowed ? 'block' : 'none';\n",
              "\n",
              "        async function convertToInteractive(key) {\n",
              "          const element = document.querySelector('#df-d3149af9-1aee-417d-bc78-2c66b27a0b36');\n",
              "          const dataTable =\n",
              "            await google.colab.kernel.invokeFunction('convertToInteractive',\n",
              "                                                     [key], {});\n",
              "          if (!dataTable) return;\n",
              "\n",
              "          const docLinkHtml = 'Like what you see? Visit the ' +\n",
              "            '<a target=\"_blank\" href=https://colab.research.google.com/notebooks/data_table.ipynb>data table notebook</a>'\n",
              "            + ' to learn more about interactive tables.';\n",
              "          element.innerHTML = '';\n",
              "          dataTable['output_type'] = 'display_data';\n",
              "          await google.colab.output.renderOutput(dataTable, element);\n",
              "          const docLink = document.createElement('div');\n",
              "          docLink.innerHTML = docLinkHtml;\n",
              "          element.appendChild(docLink);\n",
              "        }\n",
              "      </script>\n",
              "    </div>\n",
              "  </div>\n",
              "  "
            ]
          },
          "metadata": {},
          "execution_count": 8
        }
      ]
    },
    {
      "cell_type": "markdown",
      "source": [
        "\n",
        "\n",
        "*   We have an algorithm(s) which took close to 1.5s to look for a pattern.\n",
        "*   We only have positive numbers thus we will have more scaling options including logarithmic based.\n",
        "\n"
      ],
      "metadata": {
        "id": "P7Hhid_rsi3t"
      }
    },
    {
      "cell_type": "code",
      "source": [
        "_=matching_data.hist(bins=64,figsize=(15,10))"
      ],
      "metadata": {
        "colab": {
          "base_uri": "https://localhost:8080/"
        },
        "id": "oPx0HuGPvDhy",
        "outputId": "4c66a3f0-cdc5-43d9-bf92-50b310ef1c66"
      },
      "execution_count": null,
      "outputs": [
        {
          "output_type": "display_data",
          "data": {
            "text/plain": [
              "<Figure size 1080x720 with 4 Axes>"
            ],
            "image/png": "[encoded data removed]"
          },
          "metadata": {
            "needs_background": "light"
          }
        }
      ]
    },
    {
      "cell_type": "markdown",
      "source": [
        "\n",
        "\n",
        "*   The attributes have different scales except pattern length and Alphabet size which looks like they follow the same scale.\n",
        "* Time attribute follows exponential curve.\n",
        "\n"
      ],
      "metadata": {
        "id": "TXug62-xzEu1"
      }
    },
    {
      "cell_type": "markdown",
      "source": [
        "## Categorical attributes distribution"
      ],
      "metadata": {
        "id": "7Yn8F8rp3DFb"
      }
    },
    {
      "cell_type": "code",
      "source": [
        "column_names = ['Category','Algorithm','Best Algo']\n",
        "\n",
        "for col in column_names:\n",
        "    plt.figure()\n",
        "    plt.title(f'{col} distribution')\n",
        "    _=matching_data[col].value_counts().plot(kind='bar')\n",
        "    \n",
        "    "
      ],
      "metadata": {
        "colab": {
          "base_uri": "https://localhost:8080/"
        },
        "id": "bg8MjrKh51Fn",
        "outputId": "cca778e5-1406-42e3-e531-b14a8d30df73"
      },
      "execution_count": null,
      "outputs": [
        {
          "output_type": "display_data",
          "data": {
            "text/plain": [
              "<Figure size 432x288 with 1 Axes>"
            ],
            "image/png": "[encoded data removed]"
          },
          "metadata": {
            "needs_background": "light"
          }
        },
        {
          "output_type": "display_data",
          "data": {
            "text/plain": [
              "<Figure size 432x288 with 1 Axes>"
            ],
            "image/png": "[encoded data removed]"
          },
          "metadata": {
            "needs_background": "light"
          }
        },
        {
          "output_type": "display_data",
          "data": {
            "text/plain": [
              "<Figure size 432x288 with 1 Axes>"
            ],
            "image/png": "[encoded data removed]"
          },
          "metadata": {
            "needs_background": "light"
          }
        }
      ]
    },
    {
      "cell_type": "markdown",
      "source": [
        "\n",
        "Starting from top to bottom plot:-\n",
        "*   All text samples have equal representation. The settings based on two constraints one was the corpus availability and second was the shared memory limitations.\n",
        "*   Well, nothing much to talk about the second plot. The algorithms are equally represented which means each and every algorithm was tested in each experiment.\n",
        "* The third plot has a lot to talk about. First, it represents the number of times a particular algorithm beats its competitors in a test experiment. Generally, we observe that EBOM algorithm won in most cases while HOR was the last. Later we can deep dive into trying to locate under which test cases an algorithm is strong or weak. Second, did you spot that BM,TVSBS, KR, BMH-SBNDM and TW algorithms are missing in the third plot? Well, that means they never won the race in any of the test experiment.\n",
        "\n",
        "* Also, we need to be careful during training and testing dataset splitting. We don't want some algorithms to miss in either of the split as this would hinder performance and hence model generalization. Looking at the third plot it's likely that we may fall into this trap. Random based splitting techniques may not work perfectly for this case. We shall see🤞\n",
        "\n",
        "* Finally, A closer look at the third plot suggests at the very beginning that accuracy might not be a good measure of performance, the dataset is badly unbalanced. Maybe we can fine tune the classification threshold as the standard one is set to `0.5`. Time ⌚ will tell.\n",
        "\n"
      ],
      "metadata": {
        "id": "UvvpuD5KApeX"
      }
    },
    {
      "cell_type": "markdown",
      "source": [
        "## A quick look ➿ at the SMART dataset, once and for all.\n",
        "\n",
        "We create an interactive dashboard to help get insights about the smart dataset. What we can get from this dashboard:-\n",
        "\n",
        "\n",
        "1.   Get a quick look at the algorithm performance under different conditions.\n",
        "2.   Get to know which algorithm is the best under the specified conditions (The Ground Truth).\n",
        "3.   Multiple performance plots can be added into one canvas and visualize which one is performing better.\n",
        "\n",
        "Tips on how to use the dashboard.\n",
        "\n",
        "⚠  Avoid setting variables to zero, unless it's intentional. For example, if you set the text size variable to `0` you loose the plot (The middle panel).\n",
        "\n",
        "🆗 Set the Alphabet Size and Pattern Length to `0` (The right panel on the dashboard) to investigate on algorithm(s) performance. BTW, you can set as you wish and suit yourself.\n",
        "\n",
        "⛔ To determine the best algorithm (The Ground Truth) ensure Text Size, Category, Alphabet Size and Pattern Length variables are selected. The result will be shown underneath the Pattern Length variable. If it's not the current plot on the canvas you can visualize the best algorithm by selecting it in the left panel (Algorithm variable).\n",
        "\n",
        "🆒 Widget values/options are being updated automatically based on what you options you select. For example setting alphabet size to `0` then the pattern length is reset to `0` too. Setting different `text sizes` updates the `alphabet size` choice list, and so on.\n",
        "\n",
        "\n"
      ],
      "metadata": {
        "id": "x6ZBHB8nRV27"
      }
    },
    {
      "cell_type": "code",
      "source": [
        "# !pip install panel -q # An Interactive Dashboard"
      ],
      "metadata": {
        "id": "3HF7C1oQPkKr"
      },
      "execution_count": null,
      "outputs": []
    },
    {
      "cell_type": "code",
      "source": [
        "#!pip install panel -q # An Interactive Dashboard\n",
        "# We might consider transforming to OOP in the future\n",
        "# let's get the job done first\n",
        "# import plotly.express as px\n",
        "def data_plots(data):\n",
        "    if data.size == 0:\n",
        "        return ''\n",
        "\n",
        "    fig = Figure()\n",
        "    ax = fig.add_subplot()\n",
        "    sns.lineplot(data=data,\n",
        "                 x=\"Pattern Length\",\n",
        "                 y=\"Time [ms]\",\n",
        "                 hue='Algorithm',\n",
        "                 ax=ax,\n",
        "                 marker='o',\n",
        "                 estimator='mean')\n",
        "    ax.set_xscale('log', basex=2)\n",
        "    ax.xaxis.set_major_formatter(ScalarFormatter())\n",
        "    ax.grid(True)\n",
        "\n",
        "    return fig\n",
        "\n",
        "def group_data(algorithm=[\"FSBNDM\"],textSize=1,category=[\"englishTexts\"],view_fn=data_plots):\n",
        "    df = matching_data.query('Algorithm in @algorithm & `Text Size [MB]`==@textSize &Category in @category')\n",
        "    return view_fn(df)\n",
        "\n",
        "def bestAlgo(df):\n",
        "    if df.size != 0:\n",
        "        return pn.pane.Markdown(object=f'Fastest: {df[\"Algorithm\"][0]}')\n",
        "    return ''\n",
        "    \n",
        "\n",
        "def best_algo(category=\"englishTexts\",textSize=1,patternLength=8,alphabetSize=64,view_fn=bestAlgo):\n",
        "    q = 'Category in @category & `Text Size [MB]`==@textSize & `Pattern Length` ==@patternLength & `Alphabet Size`==@alphabetSize'\n",
        "    df = matching_data.query(q).sort_values(by='Time [ms]',ignore_index=True)\n",
        "    return view_fn(df)\n",
        "\n",
        "def options(txt_size):\n",
        "    q = matching_data.query('`Text Size [MB]`==@txt_size')\n",
        "    alph_size = sorted(list(q['Alphabet Size'].unique())+[0])\n",
        "    cat = list(q['Category'].unique())\n",
        "    return alph_size,cat\n",
        "\n",
        "def alpha_options(curr_alpha,curr_size):\n",
        "    if curr_alpha != 0:\n",
        "        q = matching_data.query('`Text Size [MB]`==@curr_size & `Alphabet Size`==@curr_alpha')\n",
        "        return list(q['Category'].unique())\n",
        "    return list((matching_data['Category'].unique()))\n",
        "\n",
        "# Defining a parameter Watcher\n",
        "def callback(*events):\n",
        "    for event in events:\n",
        "        if event.name == 'value':\n",
        "            alph_size,cat = options(event.new)\n",
        "            alphabet_size.options = alph_size\n",
        "            category.options = category.value = cat\n",
        "\n",
        "def callback_alpha(*events):\n",
        "    for event in events:\n",
        "        if event.name == 'value':\n",
        "            category.value = category.options = alpha_options(event.new,text_size.value)\n",
        "            if event.new == 0: pattern_length.value = 0\n",
        "\n",
        "# Creating widgets\n",
        "## Widgets Global variables\n",
        "algorithm  = pnw.MultiSelect(name='Algorithm', value=['FSBNDM'], \n",
        "                                options=list(matching_data['Algorithm'].unique()))\n",
        "text_size  = pnw.Select(name='Text Size', value=None, \n",
        "                                options=sorted(list(matching_data['Text Size [MB]'].unique())+[0]))\n",
        "category = pnw.MultiSelect(name='Category', value=list(matching_data['Category'].unique()),\n",
        "                        options=list((matching_data['Category'].unique())))\n",
        "alphabet_size = pnw.Select(name='Alphabet Size', value=None,\n",
        "                                options=sorted(list(matching_data['Alphabet Size'].unique())+[0]))\n",
        "pattern_length = pnw.Select(name='Pattern Length', value=None,\n",
        "                                options=sorted(list(matching_data['Pattern Length'].unique())+[0]))\n",
        "def left_pane():\n",
        "    text = \"\\n# Parameter Settings\\nApply different set of filters\" #<br>\n",
        "    headers_l = pn.Column(text, algorithm, text_size,category,width=300)\n",
        "    mid_plot = pn.bind(group_data, algorithm, text_size,category)\n",
        "    return headers_l,mid_plot\n",
        "\n",
        "def right_pane():\n",
        "    # GROUND TRUTH\n",
        "    text_ground =\"\"\"\\n# Ground truth\\nDetermine the fastest algorithm\n",
        "    by changing Alphabet size, Pattern length, \n",
        "    Text size and Category.\"\"\"\n",
        "    # reactive_plot = pn.bind(group_data, algorithm, text_size,category)\n",
        "    best_algo_name = pn.bind(best_algo,category,text_size,pattern_length,alphabet_size)\n",
        "    headers_r = pn.Column(text_ground,alphabet_size,pattern_length,best_algo_name,width=200)\n",
        "    return headers_r\n",
        "\n",
        "\n",
        "def set_up_main_panel():\n",
        "    headers_l , mid_plot = left_pane()\n",
        "    headers_r = right_pane()\n",
        "    return pn.Row(headers_l,mid_plot,headers_r)\n",
        "\n",
        "def text_size_watcher():\n",
        "    return text_size.param.watch(callback, ['value'], onlychanged=True) \n",
        "\n",
        "def trig_text_event():\n",
        "    # Ensure we have the default mid plot\n",
        "    text_size.value = 1\n",
        "\n",
        "def alphabet_size_watcher():\n",
        "    return alphabet_size.param.watch(callback_alpha, ['value'], onlychanged=True) \n",
        "\n"
      ],
      "metadata": {
        "id": "Hsy9G076mQZ1"
      },
      "execution_count": null,
      "outputs": []
    },
    {
      "cell_type": "code",
      "source": [
        "visualizer = set_up_main_panel() # The Entire Dashboard\n",
        "watch_text_size = text_size_watcher() # Track text size Changes\n",
        "trig_text_event() # Trigger text size event to have a default mid plot\n",
        "watch_alphabet_size = alphabet_size_watcher() # Track alphabet_size\n",
        "visualizer"
      ],
      "metadata": {
        "colab": {
          "base_uri": "https://localhost:8080/"
        },
        "id": "QoAEkjAuLNQ-",
        "outputId": "a6cbcbea-7470-4b38-d90f-285194f3b8b7"
      },
      "execution_count": null,
      "outputs": [
        {
          "output_type": "display_data",
          "data": {
            "application/javascript": [
              "\n",
              "(function(root) {\n",
              "  function now() {\n",
              "    return new Date();\n",
              "  }\n",
              "\n",
              "  var force = true;\n",
              "\n",
              "  if (typeof root._bokeh_onload_callbacks === \"undefined\" || force === true) {\n",
              "    root._bokeh_onload_callbacks = [];\n",
              "    root._bokeh_is_loading = undefined;\n",
              "  }\n",
              "\n",
              "  if (typeof (root._bokeh_timeout) === \"undefined\" || force === true) {\n",
              "    root._bokeh_timeout = Date.now() + 5000;\n",
              "    root._bokeh_failed_load = false;\n",
              "  }\n",
              "\n",
              "  function run_callbacks() {\n",
              "    try {\n",
              "      root._bokeh_onload_callbacks.forEach(function(callback) {\n",
              "        if (callback != null)\n",
              "          callback();\n",
              "      });\n",
              "    } finally {\n",
              "      delete root._bokeh_onload_callbacks\n",
              "    }\n",
              "    console.debug(\"Bokeh: all callbacks have finished\");\n",
              "  }\n",
              "\n",
              "  function load_libs(css_urls, js_urls, js_modules, callback) {\n",
              "    if (css_urls == null) css_urls = [];\n",
              "    if (js_urls == null) js_urls = [];\n",
              "    if (js_modules == null) js_modules = [];\n",
              "\n",
              "    root._bokeh_onload_callbacks.push(callback);\n",
              "    if (root._bokeh_is_loading > 0) {\n",
              "      console.debug(\"Bokeh: BokehJS is being loaded, scheduling callback at\", now());\n",
              "      return null;\n",
              "    }\n",
              "    if (js_urls.length === 0 && js_modules.length === 0) {\n",
              "      run_callbacks();\n",
              "      return null;\n",
              "    }\n",
              "    console.debug(\"Bokeh: BokehJS not loaded, scheduling load and callback at\", now());\n",
              "    root._bokeh_is_loading = css_urls.length + js_urls.length + js_modules.length;\n",
              "\n",
              "    function on_load() {\n",
              "      root._bokeh_is_loading--;\n",
              "      if (root._bokeh_is_loading === 0) {\n",
              "        console.debug(\"Bokeh: all BokehJS libraries/stylesheets loaded\");\n",
              "        run_callbacks()\n",
              "      }\n",
              "    }\n",
              "\n",
              "    function on_error() {\n",
              "      console.error(\"failed to load \" + url);\n",
              "    }\n",
              "\n",
              "    for (var i = 0; i < css_urls.length; i++) {\n",
              "      var url = css_urls[i];\n",
              "      const element = document.createElement(\"link\");\n",
              "      element.onload = on_load;\n",
              "      element.onerror = on_error;\n",
              "      element.rel = \"stylesheet\";\n",
              "      element.type = \"text/css\";\n",
              "      element.href = url;\n",
              "      console.debug(\"Bokeh: injecting link tag for BokehJS stylesheet: \", url);\n",
              "      document.body.appendChild(element);\n",
              "    }\n",
              "\n",
              "    var skip = [];\n",
              "    if (window.requirejs) {\n",
              "      window.requirejs.config({'packages': {}, 'paths': {}, 'shim': {}});\n",
              "      \n",
              "    }\n",
              "    for (var i = 0; i < js_urls.length; i++) {\n",
              "      var url = js_urls[i];\n",
              "      if (skip.indexOf(url) >= 0) { on_load(); continue; }\n",
              "      var element = document.createElement('script');\n",
              "      element.onload = on_load;\n",
              "      element.onerror = on_error;\n",
              "      element.async = false;\n",
              "      element.src = url;\n",
              "      console.debug(\"Bokeh: injecting script tag for BokehJS library: \", url);\n",
              "      document.head.appendChild(element);\n",
              "    }\n",
              "    for (var i = 0; i < js_modules.length; i++) {\n",
              "      var url = js_modules[i];\n",
              "      if (skip.indexOf(url) >= 0) { on_load(); continue; }\n",
              "      var element = document.createElement('script');\n",
              "      element.onload = on_load;\n",
              "      element.onerror = on_error;\n",
              "      element.async = false;\n",
              "      element.src = url;\n",
              "      element.type = \"module\";\n",
              "      console.debug(\"Bokeh: injecting script tag for BokehJS library: \", url);\n",
              "      document.head.appendChild(element);\n",
              "    }\n",
              "    if (!js_urls.length && !js_modules.length) {\n",
              "      on_load()\n",
              "    }\n",
              "  };\n",
              "\n",
              "  function inject_raw_css(css) {\n",
              "    const element = document.createElement(\"style\");\n",
              "    element.appendChild(document.createTextNode(css));\n",
              "    document.body.appendChild(element);\n",
              "  }\n",
              "\n",
              "  var js_urls = [\"https://cdn.bokeh.org/bokeh/release/bokeh-2.3.3.min.js\", \"https://cdn.bokeh.org/bokeh/release/bokeh-widgets-2.3.3.min.js\", \"https://cdn.bokeh.org/bokeh/release/bokeh-tables-2.3.3.min.js\", \"https://unpkg.com/@holoviz/panel@0.12.1/dist/panel.min.js\"];\n",
              "  var js_modules = [];\n",
              "  var css_urls = [\"https://unpkg.com/@holoviz/panel@0.12.1/dist/css/card.css\", \"https://unpkg.com/@holoviz/panel@0.12.1/dist/css/dataframe.css\", \"https://unpkg.com/@holoviz/panel@0.12.1/dist/css/json.css\", \"https://unpkg.com/@holoviz/panel@0.12.1/dist/css/loading.css\", \"https://unpkg.com/@holoviz/panel@0.12.1/dist/css/alerts.css\", \"https://unpkg.com/@holoviz/panel@0.12.1/dist/css/markdown.css\", \"https://unpkg.com/@holoviz/panel@0.12.1/dist/css/widgets.css\"];\n",
              "  var inline_js = [\n",
              "    function(Bokeh) {\n",
              "      inject_raw_css(\"\\n    .bk.pn-loading.arcs:before {\\n      background-image: url(\\\"data:image/svg+xml;base64,PHN2ZyB4bWxucz0iaHR0cDovL3d3dy53My5vcmcvMjAwMC9zdmciIHhtbG5zOnhsaW5rPSJodHRwOi8vd3d3LnczLm9yZy8xOTk5L3hsaW5rIiBzdHlsZT0ibWFyZ2luOiBhdXRvOyBiYWNrZ3JvdW5kOiBub25lOyBkaXNwbGF5OiBibG9jazsgc2hhcGUtcmVuZGVyaW5nOiBhdXRvOyIgdmlld0JveD0iMCAwIDEwMCAxMDAiIHByZXNlcnZlQXNwZWN0UmF0aW89InhNaWRZTWlkIj4gIDxjaXJjbGUgY3g9IjUwIiBjeT0iNTAiIHI9IjMyIiBzdHJva2Utd2lkdGg9IjgiIHN0cm9rZT0iI2MzYzNjMyIgc3Ryb2tlLWRhc2hhcnJheT0iNTAuMjY1NDgyNDU3NDM2NjkgNTAuMjY1NDgyNDU3NDM2NjkiIGZpbGw9Im5vbmUiIHN0cm9rZS1saW5lY2FwPSJyb3VuZCI+ICAgIDxhbmltYXRlVHJhbnNmb3JtIGF0dHJpYnV0ZU5hbWU9InRyYW5zZm9ybSIgdHlwZT0icm90YXRlIiByZXBlYXRDb3VudD0iaW5kZWZpbml0ZSIgZHVyPSIxcyIga2V5VGltZXM9IjA7MSIgdmFsdWVzPSIwIDUwIDUwOzM2MCA1MCA1MCI+PC9hbmltYXRlVHJhbnNmb3JtPiAgPC9jaXJjbGU+PC9zdmc+\\\")\\n    }\\n    \");\n",
              "    },\n",
              "    function(Bokeh) {\n",
              "      Bokeh.set_log_level(\"info\");\n",
              "    },\n",
              "    function(Bokeh) {} // ensure no trailing comma for IE\n",
              "  ];\n",
              "\n",
              "  function run_inline_js() {\n",
              "    if ((root.Bokeh !== undefined) || (force === true)) {\n",
              "      for (var i = 0; i < inline_js.length; i++) {\n",
              "        inline_js[i].call(root, root.Bokeh);\n",
              "      }} else if (Date.now() < root._bokeh_timeout) {\n",
              "      setTimeout(run_inline_js, 100);\n",
              "    } else if (!root._bokeh_failed_load) {\n",
              "      console.log(\"Bokeh: BokehJS failed to load within specified timeout.\");\n",
              "      root._bokeh_failed_load = true;\n",
              "    }\n",
              "  }\n",
              "\n",
              "  if (root._bokeh_is_loading === 0) {\n",
              "    console.debug(\"Bokeh: BokehJS loaded, going straight to plotting\");\n",
              "    run_inline_js();\n",
              "  } else {\n",
              "    load_libs(css_urls, js_urls, js_modules, function() {\n",
              "      console.debug(\"Bokeh: BokehJS plotting callback run at\", now());\n",
              "      run_inline_js();\n",
              "    });\n",
              "  }\n",
              "}(window));"
            ],
            "application/vnd.holoviews_load.v0+json": "\n(function(root) {\n  function now() {\n    return new Date();\n  }\n\n  var force = true;\n\n  if (typeof root._bokeh_onload_callbacks === \"undefined\" || force === true) {\n    root._bokeh_onload_callbacks = [];\n    root._bokeh_is_loading = undefined;\n  }\n\n  if (typeof (root._bokeh_timeout) === \"undefined\" || force === true) {\n    root._bokeh_timeout = Date.now() + 5000;\n    root._bokeh_failed_load = false;\n  }\n\n  function run_callbacks() {\n    try {\n      root._bokeh_onload_callbacks.forEach(function(callback) {\n        if (callback != null)\n          callback();\n      });\n    } finally {\n      delete root._bokeh_onload_callbacks\n    }\n    console.debug(\"Bokeh: all callbacks have finished\");\n  }\n\n  function load_libs(css_urls, js_urls, js_modules, callback) {\n    if (css_urls == null) css_urls = [];\n    if (js_urls == null) js_urls = [];\n    if (js_modules == null) js_modules = [];\n\n    root._bokeh_onload_callbacks.push(callback);\n    if (root._bokeh_is_loading > 0) {\n      console.debug(\"Bokeh: BokehJS is being loaded, scheduling callback at\", now());\n      return null;\n    }\n    if (js_urls.length === 0 && js_modules.length === 0) {\n      run_callbacks();\n      return null;\n    }\n    console.debug(\"Bokeh: BokehJS not loaded, scheduling load and callback at\", now());\n    root._bokeh_is_loading = css_urls.length + js_urls.length + js_modules.length;\n\n    function on_load() {\n      root._bokeh_is_loading--;\n      if (root._bokeh_is_loading === 0) {\n        console.debug(\"Bokeh: all BokehJS libraries/stylesheets loaded\");\n        run_callbacks()\n      }\n    }\n\n    function on_error() {\n      console.error(\"failed to load \" + url);\n    }\n\n    for (var i = 0; i < css_urls.length; i++) {\n      var url = css_urls[i];\n      const element = document.createElement(\"link\");\n      element.onload = on_load;\n      element.onerror = on_error;\n      element.rel = \"stylesheet\";\n      element.type = \"text/css\";\n      element.href = url;\n      console.debug(\"Bokeh: injecting link tag for BokehJS stylesheet: \", url);\n      document.body.appendChild(element);\n    }\n\n    var skip = [];\n    if (window.requirejs) {\n      window.requirejs.config({'packages': {}, 'paths': {}, 'shim': {}});\n      \n    }\n    for (var i = 0; i < js_urls.length; i++) {\n      var url = js_urls[i];\n      if (skip.indexOf(url) >= 0) { on_load(); continue; }\n      var element = document.createElement('script');\n      element.onload = on_load;\n      element.onerror = on_error;\n      element.async = false;\n      element.src = url;\n      console.debug(\"Bokeh: injecting script tag for BokehJS library: \", url);\n      document.head.appendChild(element);\n    }\n    for (var i = 0; i < js_modules.length; i++) {\n      var url = js_modules[i];\n      if (skip.indexOf(url) >= 0) { on_load(); continue; }\n      var element = document.createElement('script');\n      element.onload = on_load;\n      element.onerror = on_error;\n      element.async = false;\n      element.src = url;\n      element.type = \"module\";\n      console.debug(\"Bokeh: injecting script tag for BokehJS library: \", url);\n      document.head.appendChild(element);\n    }\n    if (!js_urls.length && !js_modules.length) {\n      on_load()\n    }\n  };\n\n  function inject_raw_css(css) {\n    const element = document.createElement(\"style\");\n    element.appendChild(document.createTextNode(css));\n    document.body.appendChild(element);\n  }\n\n  var js_urls = [\"https://cdn.bokeh.org/bokeh/release/bokeh-2.3.3.min.js\", \"https://cdn.bokeh.org/bokeh/release/bokeh-widgets-2.3.3.min.js\", \"https://cdn.bokeh.org/bokeh/release/bokeh-tables-2.3.3.min.js\", \"https://unpkg.com/@holoviz/panel@0.12.1/dist/panel.min.js\"];\n  var js_modules = [];\n  var css_urls = [\"https://unpkg.com/@holoviz/panel@0.12.1/dist/css/card.css\", \"https://unpkg.com/@holoviz/panel@0.12.1/dist/css/dataframe.css\", \"https://unpkg.com/@holoviz/panel@0.12.1/dist/css/json.css\", \"https://unpkg.com/@holoviz/panel@0.12.1/dist/css/loading.css\", \"https://unpkg.com/@holoviz/panel@0.12.1/dist/css/alerts.css\", \"https://unpkg.com/@holoviz/panel@0.12.1/dist/css/markdown.css\", \"https://unpkg.com/@holoviz/panel@0.12.1/dist/css/widgets.css\"];\n  var inline_js = [\n    function(Bokeh) {\n      inject_raw_css(\"\\n    .bk.pn-loading.arcs:before {\\n      background-image: url(\\\"data:image/svg+xml;base64,PHN2ZyB4bWxucz0iaHR0cDovL3d3dy53My5vcmcvMjAwMC9zdmciIHhtbG5zOnhsaW5rPSJodHRwOi8vd3d3LnczLm9yZy8xOTk5L3hsaW5rIiBzdHlsZT0ibWFyZ2luOiBhdXRvOyBiYWNrZ3JvdW5kOiBub25lOyBkaXNwbGF5OiBibG9jazsgc2hhcGUtcmVuZGVyaW5nOiBhdXRvOyIgdmlld0JveD0iMCAwIDEwMCAxMDAiIHByZXNlcnZlQXNwZWN0UmF0aW89InhNaWRZTWlkIj4gIDxjaXJjbGUgY3g9IjUwIiBjeT0iNTAiIHI9IjMyIiBzdHJva2Utd2lkdGg9IjgiIHN0cm9rZT0iI2MzYzNjMyIgc3Ryb2tlLWRhc2hhcnJheT0iNTAuMjY1NDgyNDU3NDM2NjkgNTAuMjY1NDgyNDU3NDM2NjkiIGZpbGw9Im5vbmUiIHN0cm9rZS1saW5lY2FwPSJyb3VuZCI+ICAgIDxhbmltYXRlVHJhbnNmb3JtIGF0dHJpYnV0ZU5hbWU9InRyYW5zZm9ybSIgdHlwZT0icm90YXRlIiByZXBlYXRDb3VudD0iaW5kZWZpbml0ZSIgZHVyPSIxcyIga2V5VGltZXM9IjA7MSIgdmFsdWVzPSIwIDUwIDUwOzM2MCA1MCA1MCI+PC9hbmltYXRlVHJhbnNmb3JtPiAgPC9jaXJjbGU+PC9zdmc+\\\")\\n    }\\n    \");\n    },\n    function(Bokeh) {\n      Bokeh.set_log_level(\"info\");\n    },\n    function(Bokeh) {} // ensure no trailing comma for IE\n  ];\n\n  function run_inline_js() {\n    if ((root.Bokeh !== undefined) || (force === true)) {\n      for (var i = 0; i < inline_js.length; i++) {\n        inline_js[i].call(root, root.Bokeh);\n      }} else if (Date.now() < root._bokeh_timeout) {\n      setTimeout(run_inline_js, 100);\n    } else if (!root._bokeh_failed_load) {\n      console.log(\"Bokeh: BokehJS failed to load within specified timeout.\");\n      root._bokeh_failed_load = true;\n    }\n  }\n\n  if (root._bokeh_is_loading === 0) {\n    console.debug(\"Bokeh: BokehJS loaded, going straight to plotting\");\n    run_inline_js();\n  } else {\n    load_libs(css_urls, js_urls, js_modules, function() {\n      console.debug(\"Bokeh: BokehJS plotting callback run at\", now());\n      run_inline_js();\n    });\n  }\n}(window));"
          },
          "metadata": {}
        },
        {
          "output_type": "display_data",
          "data": {
            "application/vnd.holoviews_load.v0+json": "\nif ((window.PyViz === undefined) || (window.PyViz instanceof HTMLElement)) {\n  window.PyViz = {comms: {}, comm_status:{}, kernels:{}, receivers: {}, plot_index: []}\n}\n\n\n    function JupyterCommManager() {\n    }\n\n    JupyterCommManager.prototype.register_target = function(plot_id, comm_id, msg_handler) {\n      if (window.comm_manager || ((window.Jupyter !== undefined) && (Jupyter.notebook.kernel != null))) {\n        var comm_manager = window.comm_manager || Jupyter.notebook.kernel.comm_manager;\n        comm_manager.register_target(comm_id, function(comm) {\n          comm.on_msg(msg_handler);\n        });\n      } else if ((plot_id in window.PyViz.kernels) && (window.PyViz.kernels[plot_id])) {\n        window.PyViz.kernels[plot_id].registerCommTarget(comm_id, function(comm) {\n          comm.onMsg = msg_handler;\n        });\n      } else if (typeof google != 'undefined' && google.colab.kernel != null) {\n        google.colab.kernel.comms.registerTarget(comm_id, (comm) => {\n          var messages = comm.messages[Symbol.asyncIterator]();\n          function processIteratorResult(result) {\n            var message = result.value;\n            console.log(message)\n            var content = {data: message.data, comm_id};\n            var buffers = []\n            for (var buffer of message.buffers || []) {\n              buffers.push(new DataView(buffer))\n            }\n            var metadata = message.metadata || {};\n            var msg = {content, buffers, metadata}\n            msg_handler(msg);\n            return messages.next().then(processIteratorResult);\n          }\n          return messages.next().then(processIteratorResult);\n        })\n      }\n    }\n\n    JupyterCommManager.prototype.get_client_comm = function(plot_id, comm_id, msg_handler) {\n      if (comm_id in window.PyViz.comms) {\n        return window.PyViz.comms[comm_id];\n      } else if (window.comm_manager || ((window.Jupyter !== undefined) && (Jupyter.notebook.kernel != null))) {\n        var comm_manager = window.comm_manager || Jupyter.notebook.kernel.comm_manager;\n        var comm = comm_manager.new_comm(comm_id, {}, {}, {}, comm_id);\n        if (msg_handler) {\n          comm.on_msg(msg_handler);\n        }\n      } else if ((plot_id in window.PyViz.kernels) && (window.PyViz.kernels[plot_id])) {\n        var comm = window.PyViz.kernels[plot_id].connectToComm(comm_id);\n        comm.open();\n        if (msg_handler) {\n          comm.onMsg = msg_handler;\n        }\n      } else if (typeof google != 'undefined' && google.colab.kernel != null) {\n        var comm_promise = google.colab.kernel.comms.open(comm_id)\n        comm_promise.then((comm) => {\n          window.PyViz.comms[comm_id] = comm;\n          if (msg_handler) {\n            var messages = comm.messages[Symbol.asyncIterator]();\n            function processIteratorResult(result) {\n              var message = result.value;\n              var content = {data: message.data};\n              var metadata = message.metadata || {comm_id};\n              var msg = {content, metadata}\n              msg_handler(msg);\n              return messages.next().then(processIteratorResult);\n            }\n            return messages.next().then(processIteratorResult);\n          }\n        }) \n        var sendClosure = (data, metadata, buffers, disposeOnDone) => {\n          return comm_promise.then((comm) => {\n            comm.send(data, metadata, buffers, disposeOnDone);\n          });\n        };\n        var comm = {\n          send: sendClosure\n        };\n      }\n      window.PyViz.comms[comm_id] = comm;\n      return comm;\n    }\n    window.PyViz.comm_manager = new JupyterCommManager();\n    \n\n\nvar JS_MIME_TYPE = 'application/javascript';\nvar HTML_MIME_TYPE = 'text/html';\nvar EXEC_MIME_TYPE = 'application/vnd.holoviews_exec.v0+json';\nvar CLASS_NAME = 'output';\n\n/**\n * Render data to the DOM node\n */\nfunction render(props, node) {\n  var div = document.createElement(\"div\");\n  var script = document.createElement(\"script\");\n  node.appendChild(div);\n  node.appendChild(script);\n}\n\n/**\n * Handle when a new output is added\n */\nfunction handle_add_output(event, handle) {\n  var output_area = handle.output_area;\n  var output = handle.output;\n  if ((output.data == undefined) || (!output.data.hasOwnProperty(EXEC_MIME_TYPE))) {\n    return\n  }\n  var id = output.metadata[EXEC_MIME_TYPE][\"id\"];\n  var toinsert = output_area.element.find(\".\" + CLASS_NAME.split(' ')[0]);\n  if (id !== undefined) {\n    var nchildren = toinsert.length;\n    var html_node = toinsert[nchildren-1].children[0];\n    html_node.innerHTML = output.data[HTML_MIME_TYPE];\n    var scripts = [];\n    var nodelist = html_node.querySelectorAll(\"script\");\n    for (var i in nodelist) {\n      if (nodelist.hasOwnProperty(i)) {\n        scripts.push(nodelist[i])\n      }\n    }\n\n    scripts.forEach( function (oldScript) {\n      var newScript = document.createElement(\"script\");\n      var attrs = [];\n      var nodemap = oldScript.attributes;\n      for (var j in nodemap) {\n        if (nodemap.hasOwnProperty(j)) {\n          attrs.push(nodemap[j])\n        }\n      }\n      attrs.forEach(function(attr) { newScript.setAttribute(attr.name, attr.value) });\n      newScript.appendChild(document.createTextNode(oldScript.innerHTML));\n      oldScript.parentNode.replaceChild(newScript, oldScript);\n    });\n    if (JS_MIME_TYPE in output.data) {\n      toinsert[nchildren-1].children[1].textContent = output.data[JS_MIME_TYPE];\n    }\n    output_area._hv_plot_id = id;\n    if ((window.Bokeh !== undefined) && (id in Bokeh.index)) {\n      window.PyViz.plot_index[id] = Bokeh.index[id];\n    } else {\n      window.PyViz.plot_index[id] = null;\n    }\n  } else if (output.metadata[EXEC_MIME_TYPE][\"server_id\"] !== undefined) {\n    var bk_div = document.createElement(\"div\");\n    bk_div.innerHTML = output.data[HTML_MIME_TYPE];\n    var script_attrs = bk_div.children[0].attributes;\n    for (var i = 0; i < script_attrs.length; i++) {\n      toinsert[toinsert.length - 1].childNodes[1].setAttribute(script_attrs[i].name, script_attrs[i].value);\n    }\n    // store reference to server id on output_area\n    output_area._bokeh_server_id = output.metadata[EXEC_MIME_TYPE][\"server_id\"];\n  }\n}\n\n/**\n * Handle when an output is cleared or removed\n */\nfunction handle_clear_output(event, handle) {\n  var id = handle.cell.output_area._hv_plot_id;\n  var server_id = handle.cell.output_area._bokeh_server_id;\n  if (((id === undefined) || !(id in PyViz.plot_index)) && (server_id !== undefined)) { return; }\n  var comm = window.PyViz.comm_manager.get_client_comm(\"hv-extension-comm\", \"hv-extension-comm\", function () {});\n  if (server_id !== null) {\n    comm.send({event_type: 'server_delete', 'id': server_id});\n    return;\n  } else if (comm !== null) {\n    comm.send({event_type: 'delete', 'id': id});\n  }\n  delete PyViz.plot_index[id];\n  if ((window.Bokeh !== undefined) & (id in window.Bokeh.index)) {\n    var doc = window.Bokeh.index[id].model.document\n    doc.clear();\n    const i = window.Bokeh.documents.indexOf(doc);\n    if (i > -1) {\n      window.Bokeh.documents.splice(i, 1);\n    }\n  }\n}\n\n/**\n * Handle kernel restart event\n */\nfunction handle_kernel_cleanup(event, handle) {\n  delete PyViz.comms[\"hv-extension-comm\"];\n  window.PyViz.plot_index = {}\n}\n\n/**\n * Handle update_display_data messages\n */\nfunction handle_update_output(event, handle) {\n  handle_clear_output(event, {cell: {output_area: handle.output_area}})\n  handle_add_output(event, handle)\n}\n\nfunction register_renderer(events, OutputArea) {\n  function append_mime(data, metadata, element) {\n    // create a DOM node to render to\n    var toinsert = this.create_output_subarea(\n    metadata,\n    CLASS_NAME,\n    EXEC_MIME_TYPE\n    );\n    this.keyboard_manager.register_events(toinsert);\n    // Render to node\n    var props = {data: data, metadata: metadata[EXEC_MIME_TYPE]};\n    render(props, toinsert[0]);\n    element.append(toinsert);\n    return toinsert\n  }\n\n  events.on('output_added.OutputArea', handle_add_output);\n  events.on('output_updated.OutputArea', handle_update_output);\n  events.on('clear_output.CodeCell', handle_clear_output);\n  events.on('delete.Cell', handle_clear_output);\n  events.on('kernel_ready.Kernel', handle_kernel_cleanup);\n\n  OutputArea.prototype.register_mime_type(EXEC_MIME_TYPE, append_mime, {\n    safe: true,\n    index: 0\n  });\n}\n\nif (window.Jupyter !== undefined) {\n  try {\n    var events = require('base/js/events');\n    var OutputArea = require('notebook/js/outputarea').OutputArea;\n    if (OutputArea.prototype.mime_types().indexOf(EXEC_MIME_TYPE) == -1) {\n      register_renderer(events, OutputArea);\n    }\n  } catch(err) {\n  }\n}\n",
            "application/javascript": [
              "\n",
              "if ((window.PyViz === undefined) || (window.PyViz instanceof HTMLElement)) {\n",
              "  window.PyViz = {comms: {}, comm_status:{}, kernels:{}, receivers: {}, plot_index: []}\n",
              "}\n",
              "\n",
              "\n",
              "    function JupyterCommManager() {\n",
              "    }\n",
              "\n",
              "    JupyterCommManager.prototype.register_target = function(plot_id, comm_id, msg_handler) {\n",
              "      if (window.comm_manager || ((window.Jupyter !== undefined) && (Jupyter.notebook.kernel != null))) {\n",
              "        var comm_manager = window.comm_manager || Jupyter.notebook.kernel.comm_manager;\n",
              "        comm_manager.register_target(comm_id, function(comm) {\n",
              "          comm.on_msg(msg_handler);\n",
              "        });\n",
              "      } else if ((plot_id in window.PyViz.kernels) && (window.PyViz.kernels[plot_id])) {\n",
              "        window.PyViz.kernels[plot_id].registerCommTarget(comm_id, function(comm) {\n",
              "          comm.onMsg = msg_handler;\n",
              "        });\n",
              "      } else if (typeof google != 'undefined' && google.colab.kernel != null) {\n",
              "        google.colab.kernel.comms.registerTarget(comm_id, (comm) => {\n",
              "          var messages = comm.messages[Symbol.asyncIterator]();\n",
              "          function processIteratorResult(result) {\n",
              "            var message = result.value;\n",
              "            console.log(message)\n",
              "            var content = {data: message.data, comm_id};\n",
              "            var buffers = []\n",
              "            for (var buffer of message.buffers || []) {\n",
              "              buffers.push(new DataView(buffer))\n",
              "            }\n",
              "            var metadata = message.metadata || {};\n",
              "            var msg = {content, buffers, metadata}\n",
              "            msg_handler(msg);\n",
              "            return messages.next().then(processIteratorResult);\n",
              "          }\n",
              "          return messages.next().then(processIteratorResult);\n",
              "        })\n",
              "      }\n",
              "    }\n",
              "\n",
              "    JupyterCommManager.prototype.get_client_comm = function(plot_id, comm_id, msg_handler) {\n",
              "      if (comm_id in window.PyViz.comms) {\n",
              "        return window.PyViz.comms[comm_id];\n",
              "      } else if (window.comm_manager || ((window.Jupyter !== undefined) && (Jupyter.notebook.kernel != null))) {\n",
              "        var comm_manager = window.comm_manager || Jupyter.notebook.kernel.comm_manager;\n",
              "        var comm = comm_manager.new_comm(comm_id, {}, {}, {}, comm_id);\n",
              "        if (msg_handler) {\n",
              "          comm.on_msg(msg_handler);\n",
              "        }\n",
              "      } else if ((plot_id in window.PyViz.kernels) && (window.PyViz.kernels[plot_id])) {\n",
              "        var comm = window.PyViz.kernels[plot_id].connectToComm(comm_id);\n",
              "        comm.open();\n",
              "        if (msg_handler) {\n",
              "          comm.onMsg = msg_handler;\n",
              "        }\n",
              "      } else if (typeof google != 'undefined' && google.colab.kernel != null) {\n",
              "        var comm_promise = google.colab.kernel.comms.open(comm_id)\n",
              "        comm_promise.then((comm) => {\n",
              "          window.PyViz.comms[comm_id] = comm;\n",
              "          if (msg_handler) {\n",
              "            var messages = comm.messages[Symbol.asyncIterator]();\n",
              "            function processIteratorResult(result) {\n",
              "              var message = result.value;\n",
              "              var content = {data: message.data};\n",
              "              var metadata = message.metadata || {comm_id};\n",
              "              var msg = {content, metadata}\n",
              "              msg_handler(msg);\n",
              "              return messages.next().then(processIteratorResult);\n",
              "            }\n",
              "            return messages.next().then(processIteratorResult);\n",
              "          }\n",
              "        }) \n",
              "        var sendClosure = (data, metadata, buffers, disposeOnDone) => {\n",
              "          return comm_promise.then((comm) => {\n",
              "            comm.send(data, metadata, buffers, disposeOnDone);\n",
              "          });\n",
              "        };\n",
              "        var comm = {\n",
              "          send: sendClosure\n",
              "        };\n",
              "      }\n",
              "      window.PyViz.comms[comm_id] = comm;\n",
              "      return comm;\n",
              "    }\n",
              "    window.PyViz.comm_manager = new JupyterCommManager();\n",
              "    \n",
              "\n",
              "\n",
              "var JS_MIME_TYPE = 'application/javascript';\n",
              "var HTML_MIME_TYPE = 'text/html';\n",
              "var EXEC_MIME_TYPE = 'application/vnd.holoviews_exec.v0+json';\n",
              "var CLASS_NAME = 'output';\n",
              "\n",
              "/**\n",
              " * Render data to the DOM node\n",
              " */\n",
              "function render(props, node) {\n",
              "  var div = document.createElement(\"div\");\n",
              "  var script = document.createElement(\"script\");\n",
              "  node.appendChild(div);\n",
              "  node.appendChild(script);\n",
              "}\n",
              "\n",
              "/**\n",
              " * Handle when a new output is added\n",
              " */\n",
              "function handle_add_output(event, handle) {\n",
              "  var output_area = handle.output_area;\n",
              "  var output = handle.output;\n",
              "  if ((output.data == undefined) || (!output.data.hasOwnProperty(EXEC_MIME_TYPE))) {\n",
              "    return\n",
              "  }\n",
              "  var id = output.metadata[EXEC_MIME_TYPE][\"id\"];\n",
              "  var toinsert = output_area.element.find(\".\" + CLASS_NAME.split(' ')[0]);\n",
              "  if (id !== undefined) {\n",
              "    var nchildren = toinsert.length;\n",
              "    var html_node = toinsert[nchildren-1].children[0];\n",
              "    html_node.innerHTML = output.data[HTML_MIME_TYPE];\n",
              "    var scripts = [];\n",
              "    var nodelist = html_node.querySelectorAll(\"script\");\n",
              "    for (var i in nodelist) {\n",
              "      if (nodelist.hasOwnProperty(i)) {\n",
              "        scripts.push(nodelist[i])\n",
              "      }\n",
              "    }\n",
              "\n",
              "    scripts.forEach( function (oldScript) {\n",
              "      var newScript = document.createElement(\"script\");\n",
              "      var attrs = [];\n",
              "      var nodemap = oldScript.attributes;\n",
              "      for (var j in nodemap) {\n",
              "        if (nodemap.hasOwnProperty(j)) {\n",
              "          attrs.push(nodemap[j])\n",
              "        }\n",
              "      }\n",
              "      attrs.forEach(function(attr) { newScript.setAttribute(attr.name, attr.value) });\n",
              "      newScript.appendChild(document.createTextNode(oldScript.innerHTML));\n",
              "      oldScript.parentNode.replaceChild(newScript, oldScript);\n",
              "    });\n",
              "    if (JS_MIME_TYPE in output.data) {\n",
              "      toinsert[nchildren-1].children[1].textContent = output.data[JS_MIME_TYPE];\n",
              "    }\n",
              "    output_area._hv_plot_id = id;\n",
              "    if ((window.Bokeh !== undefined) && (id in Bokeh.index)) {\n",
              "      window.PyViz.plot_index[id] = Bokeh.index[id];\n",
              "    } else {\n",
              "      window.PyViz.plot_index[id] = null;\n",
              "    }\n",
              "  } else if (output.metadata[EXEC_MIME_TYPE][\"server_id\"] !== undefined) {\n",
              "    var bk_div = document.createElement(\"div\");\n",
              "    bk_div.innerHTML = output.data[HTML_MIME_TYPE];\n",
              "    var script_attrs = bk_div.children[0].attributes;\n",
              "    for (var i = 0; i < script_attrs.length; i++) {\n",
              "      toinsert[toinsert.length - 1].childNodes[1].setAttribute(script_attrs[i].name, script_attrs[i].value);\n",
              "    }\n",
              "    // store reference to server id on output_area\n",
              "    output_area._bokeh_server_id = output.metadata[EXEC_MIME_TYPE][\"server_id\"];\n",
              "  }\n",
              "}\n",
              "\n",
              "/**\n",
              " * Handle when an output is cleared or removed\n",
              " */\n",
              "function handle_clear_output(event, handle) {\n",
              "  var id = handle.cell.output_area._hv_plot_id;\n",
              "  var server_id = handle.cell.output_area._bokeh_server_id;\n",
              "  if (((id === undefined) || !(id in PyViz.plot_index)) && (server_id !== undefined)) { return; }\n",
              "  var comm = window.PyViz.comm_manager.get_client_comm(\"hv-extension-comm\", \"hv-extension-comm\", function () {});\n",
              "  if (server_id !== null) {\n",
              "    comm.send({event_type: 'server_delete', 'id': server_id});\n",
              "    return;\n",
              "  } else if (comm !== null) {\n",
              "    comm.send({event_type: 'delete', 'id': id});\n",
              "  }\n",
              "  delete PyViz.plot_index[id];\n",
              "  if ((window.Bokeh !== undefined) & (id in window.Bokeh.index)) {\n",
              "    var doc = window.Bokeh.index[id].model.document\n",
              "    doc.clear();\n",
              "    const i = window.Bokeh.documents.indexOf(doc);\n",
              "    if (i > -1) {\n",
              "      window.Bokeh.documents.splice(i, 1);\n",
              "    }\n",
              "  }\n",
              "}\n",
              "\n",
              "/**\n",
              " * Handle kernel restart event\n",
              " */\n",
              "function handle_kernel_cleanup(event, handle) {\n",
              "  delete PyViz.comms[\"hv-extension-comm\"];\n",
              "  window.PyViz.plot_index = {}\n",
              "}\n",
              "\n",
              "/**\n",
              " * Handle update_display_data messages\n",
              " */\n",
              "function handle_update_output(event, handle) {\n",
              "  handle_clear_output(event, {cell: {output_area: handle.output_area}})\n",
              "  handle_add_output(event, handle)\n",
              "}\n",
              "\n",
              "function register_renderer(events, OutputArea) {\n",
              "  function append_mime(data, metadata, element) {\n",
              "    // create a DOM node to render to\n",
              "    var toinsert = this.create_output_subarea(\n",
              "    metadata,\n",
              "    CLASS_NAME,\n",
              "    EXEC_MIME_TYPE\n",
              "    );\n",
              "    this.keyboard_manager.register_events(toinsert);\n",
              "    // Render to node\n",
              "    var props = {data: data, metadata: metadata[EXEC_MIME_TYPE]};\n",
              "    render(props, toinsert[0]);\n",
              "    element.append(toinsert);\n",
              "    return toinsert\n",
              "  }\n",
              "\n",
              "  events.on('output_added.OutputArea', handle_add_output);\n",
              "  events.on('output_updated.OutputArea', handle_update_output);\n",
              "  events.on('clear_output.CodeCell', handle_clear_output);\n",
              "  events.on('delete.Cell', handle_clear_output);\n",
              "  events.on('kernel_ready.Kernel', handle_kernel_cleanup);\n",
              "\n",
              "  OutputArea.prototype.register_mime_type(EXEC_MIME_TYPE, append_mime, {\n",
              "    safe: true,\n",
              "    index: 0\n",
              "  });\n",
              "}\n",
              "\n",
              "if (window.Jupyter !== undefined) {\n",
              "  try {\n",
              "    var events = require('base/js/events');\n",
              "    var OutputArea = require('notebook/js/outputarea').OutputArea;\n",
              "    if (OutputArea.prototype.mime_types().indexOf(EXEC_MIME_TYPE) == -1) {\n",
              "      register_renderer(events, OutputArea);\n",
              "    }\n",
              "  } catch(err) {\n",
              "  }\n",
              "}\n"
            ]
          },
          "metadata": {}
        },
        {
          "output_type": "execute_result",
          "data": {
            "text/html": [
              "<div id='1002'>\n",
              "\n",
              "\n",
              "\n",
              "\n",
              "\n",
              "  <div class=\"bk-root\" id=\"86dc49bb-c03c-4ddb-855b-9b36d7a40a24\" data-root-id=\"1002\"></div>\n",
              "</div>\n",
              "<script type=\"application/javascript\">(function(root) {\n",
              "  function embed_document(root) {\n",
              "    var docs_json = {\"77b39802-224d-4499-a2de-d6096c4adb94\":{\"defs\":[{\"extends\":null,\"module\":null,\"name\":\"ReactiveHTML1\",\"overrides\":[],\"properties\":[]},{\"extends\":null,\"module\":null,\"name\":\"FlexBox1\",\"overrides\":[],\"properties\":[{\"default\":\"flex-start\",\"kind\":null,\"name\":\"align_content\"},{\"default\":\"flex-start\",\"kind\":null,\"name\":\"align_items\"},{\"default\":\"row\",\"kind\":null,\"name\":\"flex_direction\"},{\"default\":\"wrap\",\"kind\":null,\"name\":\"flex_wrap\"},{\"default\":\"flex-start\",\"kind\":null,\"name\":\"justify_content\"}]},{\"extends\":null,\"module\":null,\"name\":\"TemplateActions1\",\"overrides\":[],\"properties\":[{\"default\":0,\"kind\":null,\"name\":\"open_modal\"},{\"default\":0,\"kind\":null,\"name\":\"close_modal\"}]},{\"extends\":null,\"module\":null,\"name\":\"MaterialTemplateActions1\",\"overrides\":[],\"properties\":[{\"default\":0,\"kind\":null,\"name\":\"open_modal\"},{\"default\":0,\"kind\":null,\"name\":\"close_modal\"}]}],\"roots\":{\"references\":[{\"attributes\":{\"margin\":[5,10,5,10],\"options\":[\"rand2\",\"rand4\",\"rand8\",\"rand16\",\"rand32\",\"rand64\",\"rand128\",\"rand250\",\"protein\",\"genome\",\"italianTexts\",\"englishTexts\"],\"title\":\"Category\",\"value\":[\"rand2\",\"rand4\",\"rand8\",\"rand16\",\"rand32\",\"rand64\",\"rand128\",\"rand250\",\"protein\",\"genome\",\"italianTexts\",\"englishTexts\"]},\"id\":\"1007\",\"type\":\"MultiSelect\"},{\"attributes\":{\"margin\":[5,10,5,10],\"options\":[\"0\",\"1.0\",\"5.0\",\"10.0\",\"50.0\"],\"title\":\"Text Size\",\"value\":\"1.0\"},\"id\":\"1006\",\"type\":\"Select\"},{\"attributes\":{\"children\":[{\"id\":\"1015\"}],\"margin\":[0,0,0,0],\"name\":\"Row00115\"},\"id\":\"1014\",\"type\":\"Row\"},{\"attributes\":{\"css_classes\":[\"markdown\"],\"margin\":[5,5,5,5],\"name\":\"Markdown00106\",\"text\":\"&lt;h1&gt;Parameter Settings&lt;/h1&gt;\\n&lt;p&gt;Apply different set of filters&lt;/p&gt;\"},\"id\":\"1004\",\"type\":\"panel.models.markup.HTML\"},{\"attributes\":{\"children\":[{\"id\":\"1003\"},{\"id\":\"1008\"},{\"id\":\"1010\"}],\"margin\":[0,0,0,0],\"name\":\"Row00126\"},\"id\":\"1002\",\"type\":\"Row\"},{\"attributes\":{\"margin\":[5,10,5,10],\"options\":[\"AOSO2\",\"BM\",\"BMH-SBNDM\",\"BNDM\",\"EBOM\",\"FAOSO4\",\"FJS\",\"FS\",\"FSBNDM\",\"HOR\",\"KR\",\"LBNDM\",\"RAITA\",\"SBNDMQ2\",\"SO\",\"SSEF\",\"TVSBS\",\"TW\"],\"title\":\"Algorithm\",\"value\":[\"FSBNDM\"]},\"id\":\"1005\",\"type\":\"MultiSelect\"},{\"attributes\":{\"client_comm_id\":\"19d44b1dd51746de81f6b66413ef86d1\",\"comm_id\":\"4110b678e42d4a87983edd1a9263689c\",\"plot_id\":\"1002\"},\"id\":\"1016\",\"type\":\"panel.models.comm_manager.CommManager\"},{\"attributes\":{\"children\":[{\"id\":\"1011\"},{\"id\":\"1012\"},{\"id\":\"1013\"},{\"id\":\"1014\"}],\"margin\":[0,0,0,0],\"min_width\":200,\"name\":\"Column00118\",\"width\":200},\"id\":\"1010\",\"type\":\"Column\"},{\"attributes\":{\"height\":288,\"margin\":[5,5,5,5],\"name\":\"ParamFunction00119\",\"text\":\"&lt;img src=&quot;data:image/png;base64,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&quot; width=&quot;432px&quot; height=&quot;288px&quot; alt=&quot;&quot;&gt;&lt;/img&gt;\",\"width\":432},\"id\":\"1009\",\"type\":\"panel.models.markup.HTML\"},{\"attributes\":{\"margin\":[5,10,5,10],\"options\":[\"0\",\"2\",\"4\",\"8\",\"16\",\"32\",\"64\",\"128\",\"256\",\"512\",\"1024\"],\"title\":\"Pattern Length\",\"value\":\"0\"},\"id\":\"1013\",\"type\":\"Select\"},{\"attributes\":{\"css_classes\":[\"markdown\"],\"margin\":[5,5,5,5],\"name\":\"ParamFunction00111\"},\"id\":\"1015\",\"type\":\"panel.models.markup.HTML\"},{\"attributes\":{\"children\":[{\"id\":\"1004\"},{\"id\":\"1005\"},{\"id\":\"1006\"},{\"id\":\"1007\"}],\"margin\":[0,0,0,0],\"min_width\":300,\"name\":\"Column00108\",\"width\":300},\"id\":\"1003\",\"type\":\"Column\"},{\"attributes\":{\"margin\":[5,10,5,10],\"options\":[\"0\",\"2.0\",\"4.0\",\"8.0\",\"16.0\",\"32.0\",\"64.0\",\"128.0\",\"250.0\"],\"title\":\"Alphabet Size\",\"value\":\"0\"},\"id\":\"1012\",\"type\":\"Select\"},{\"attributes\":{\"reload\":false},\"id\":\"1017\",\"type\":\"panel.models.location.Location\"},{\"attributes\":{\"children\":[{\"id\":\"1009\"}],\"margin\":[0,0,0,0],\"name\":\"Row00123\"},\"id\":\"1008\",\"type\":\"Row\"},{\"attributes\":{\"css_classes\":[\"markdown\"],\"margin\":[5,5,5,5],\"name\":\"Markdown00109\",\"text\":\"&lt;h1&gt;Ground truth&lt;/h1&gt;\\n&lt;p&gt;Determine the fastest algorithm\\n    by changing Alphabet size, Pattern length, \\n    Text size and Category.&lt;/p&gt;\"},\"id\":\"1011\",\"type\":\"panel.models.markup.HTML\"}],\"root_ids\":[\"1002\",\"1016\",\"1017\"]},\"title\":\"Bokeh Application\",\"version\":\"2.3.3\"}};\n",
              "    var render_items = [{\"docid\":\"77b39802-224d-4499-a2de-d6096c4adb94\",\"root_ids\":[\"1002\"],\"roots\":{\"1002\":\"86dc49bb-c03c-4ddb-855b-9b36d7a40a24\"}}];\n",
              "    root.Bokeh.embed.embed_items_notebook(docs_json, render_items);\n",
              "  }\n",
              "  if (root.Bokeh !== undefined && root.Bokeh.Panel !== undefined) {\n",
              "    embed_document(root);\n",
              "  } else {\n",
              "    var attempts = 0;\n",
              "    var timer = setInterval(function(root) {\n",
              "      if (root.Bokeh !== undefined && root.Bokeh.Panel !== undefined) {\n",
              "        clearInterval(timer);\n",
              "        embed_document(root);\n",
              "      } else if (document.readyState == \"complete\") {\n",
              "        attempts++;\n",
              "        if (attempts > 200) {\n",
              "          clearInterval(timer);\n",
              "          console.log(\"Bokeh: ERROR: Unable to run BokehJS code because BokehJS library is missing\");\n",
              "        }\n",
              "      }\n",
              "    }, 25, root)\n",
              "  }\n",
              "})(window);</script>"
            ],
            "application/vnd.holoviews_exec.v0+json": "",
            "text/plain": [
              "Row\n",
              "    [0] Column(width=300)\n",
              "        [0] Markdown(str)\n",
              "        [1] MultiSelect(name='Algorithm', options=['AOSO2', 'BM', ...], value=['FSBNDM'])\n",
              "        [2] Select(name='Text Size', options=[0, 1.0, 5.0, 10.0, 50.0], value=1)\n",
              "        [3] MultiSelect(name='Category', options=['rand2', 'rand4', ...], value=['rand2', 'rand4', ...])\n",
              "    [1] ParamFunction(function)\n",
              "    [2] Column(width=200)\n",
              "        [0] Markdown(str)\n",
              "        [1] Select(name='Alphabet Size', options=[0, 2.0, 4.0, ...], value=0)\n",
              "        [2] Select(name='Pattern Length', options=[0, 2, 4, 8, 16, ...], value=0)\n",
              "        [3] ParamFunction(function)"
            ]
          },
          "metadata": {
            "application/vnd.holoviews_exec.v0+json": {
              "id": "1002"
            }
          },
          "execution_count": 13
        }
      ]
    },
    {
      "cell_type": "markdown",
      "source": [
        "## A closer look at the 🔝 four best performing algorithms.\n",
        "\n",
        "We already know from the previous section that `FSBNDM`,`EBOM`,`SBNDMQ2`, and `SO`are the top 4 performer in terms of search completion time. While it might be difficult to investigate the algorithm performances for all cases, lets check few of the scenarios:-\n",
        "\n",
        "\n",
        "1.   Strengths and Weaknesses of the top 4 best performing algorithms when the `text sizes` and `pattern length` are varied.\n",
        "2.   Same as `1` but when corpus(`Category`) is changed instead of `text sizes`.\n",
        "\n"
      ],
      "metadata": {
        "id": "t7SkLCVx4pgN"
      }
    },
    {
      "cell_type": "code",
      "source": [
        "matching_data.columns"
      ],
      "metadata": {
        "colab": {
          "base_uri": "https://localhost:8080/"
        },
        "id": "mGT-vXNOWKru",
        "outputId": "26282f74-541c-446d-ab48-53aa77a0bd98"
      },
      "execution_count": null,
      "outputs": [
        {
          "output_type": "execute_result",
          "data": {
            "text/plain": [
              "Index(['Category', 'Text Size [MB]', 'Pattern Length', 'Alphabet Size',\n",
              "       'Time [ms]', 'Algorithm', 'Best Algo'],\n",
              "      dtype='object')"
            ]
          },
          "metadata": {},
          "execution_count": 14
        }
      ]
    },
    {
      "cell_type": "code",
      "source": [
        "from sklearn.preprocessing import OrdinalEncoder\n",
        "best_only = matching_data[matching_data['Best Algo'].isna() == False]\n",
        "cMap = OrdinalEncoder()\n",
        "c = cMap.fit_transform(np.array(best_only['Best Algo']).reshape(-1,1))\n",
        "cMap.categories_[0]"
      ],
      "metadata": {
        "colab": {
          "base_uri": "https://localhost:8080/"
        },
        "id": "Q6RqcdfuYgZ6",
        "outputId": "46e7b5cb-291b-463f-8577-1924aaca115c"
      },
      "execution_count": null,
      "outputs": [
        {
          "output_type": "execute_result",
          "data": {
            "text/plain": [
              "array(['AOSO2', 'BNDM', 'EBOM', 'FAOSO4', 'FJS', 'FS', 'FSBNDM', 'HOR',\n",
              "       'LBNDM', 'RAITA', 'SBNDMQ2', 'SO', 'SSEF'], dtype=object)"
            ]
          },
          "metadata": {},
          "execution_count": 15
        }
      ]
    },
    {
      "cell_type": "code",
      "source": [
        "X =best_only[['Pattern Length','Alphabet Size','Best Algo']].groupby(['Best Algo']).count()['Pattern Length']\n",
        "best_only['size']=best_only['Best Algo'].apply(lambda a:X[a])"
      ],
      "metadata": {
        "id": "3w9ttZwtpFRf"
      },
      "execution_count": null,
      "outputs": []
    },
    {
      "cell_type": "code",
      "source": [
        "# fig = Figure(figsize=(10,20))\n",
        "fig,ax = plt.subplots()\n",
        "img = ax.scatter(best_only[['Pattern Length']].values, \n",
        "           best_only[['Alphabet Size']].values,\n",
        "           c=c,\n",
        "           cmap=plt.cm.get_cmap('spring', 13),\n",
        "           s = best_only['size'].values,\n",
        "           alpha = 0.8,\n",
        "           lw = 0.8,\n",
        "              )\n",
        "# plt.matshow(best_only[['Pattern Length','Alphabet Size']],cmap=c)\n",
        "plt.colorbar(img,ticks=range(13), label='algorithm')\n",
        "ax.set_xscale('log', basex=2)\n",
        "ax.set_yscale('log', basey=2)\n",
        "ax.xaxis.set_major_formatter(ScalarFormatter())\n",
        "ax.yaxis.set_major_formatter(ScalarFormatter())\n",
        "ax.grid(True)\n",
        "img.set_clim(-0.5, 12.5)"
      ],
      "metadata": {
        "colab": {
          "base_uri": "https://localhost:8080/"
        },
        "id": "cOfQUsRXcdCU",
        "outputId": "c7dece86-3770-4164-e3d7-ae93c791ed9a"
      },
      "execution_count": null,
      "outputs": [
        {
          "output_type": "display_data",
          "data": {
            "text/plain": [
              "<Figure size 432x288 with 2 Axes>"
            ],
            "image/png": "[encoded data removed]"
          },
          "metadata": {
            "needs_background": "light"
          }
        }
      ]
    },
    {
      "cell_type": "markdown",
      "source": [
        "### Strengths💹 and Weaknesses📉 of the top 4 best performing algorithms when the `text sizes` and `pattern length` varies.\n",
        "\n",
        "| Column: text size, Row: pattern length, <font color='green'>Cell: best algorithm</font> |\n",
        "| -- |\n",
        "\n",
        "\n",
        "| | 1 | 2 | 4 | 5 | 6.8 | 8 | 16 | 32 | 64 | 128 |\n",
        "| -- | -- | -- | -- | -- | -- | -- | -- | -- | -- | -- |\n",
        "| 8 | FSBNDM | FSBNDM | FSBNDM | <font color='red'>**LBNDM**</font> | <font color='blue'>**FAOSO4**</font> | FSBNDM | FSBNDM | FSBNDM | FSBNDM | FSBNDM |\n",
        "| 16 | FSBNDM | FSBNDM | FSBNDM | <font color='red'>**LBNDM**</font> | FSBNDM | FSBNDM | FSBNDM | FSBNDM | FSBNDM | FSBNDM |\n",
        "| 32 | FSBNDM | FSBNDM | FSBNDM | FSBNDM | FSBNDM | FSBNDM | FSBNDM | FSBNDM | FSBNDM | FSBNDM |\n",
        "| 64 | FSBNDM | FSBNDM | FSBNDM | FSBNDM | FSBNDM | FSBNDM | FSBNDM | <font color='red'>**LBNDM**</font> | FSBNDM | FSBNDM |\n",
        "| 128 | FSBNDM | FSBNDM | FSBNDM | FSBNDM | FSBNDM | FSBNDM | FSBNDM | <font color='red'>**LBNDM**</font> | <font color='red'>**LBNDM**</font> | <font color='red'>**LBNDM**</font> |\n",
        "| 256 | FSBNDM | FSBNDM | FSBNDM | <font color='red'>**LBNDM**</font> | <font color='red'>**LBNDM**</font> | <font color='blue'>**FAOSO4**</font> | <font color='red'>**LBNDM**</font> | <font color='red'>**LBNDM**</font> | <font color='red'>**LBNDM**</font> | <font color='red'>**LBNDM**</font> |\n",
        "\n",
        "What we see in this table is that generally, the `FSBNDM` outperforms the rest of the algorithms especially when the `text size` is below `5`. Also it does better for all `text sizes` when the pattern length is `32`. We also observe other algorithms come into picture When `text size` is `5` and above. When the `pattern lengths` and `text sizes` are increased the FSBNDM seems to struggle while `LBNDM` excels but not entirely. Finally, `AOSO2` doesn't appear at this data summarization level. `FAOSO4` appears occasionally. Let's dig deeper to understand how these algorithms perform under different categories(corpuses). \n"
      ],
      "metadata": {
        "id": "0a7H_58_A6Tw"
      }
    },
    {
      "cell_type": "markdown",
      "source": [
        "### Strengths💹 and Weaknesses📉 of the top 4 best performing algorithms when the `category` and `pattern length` varies.\n",
        "\n",
        "| Row: category, Column: pattern length, cell: best algorithm, `text size = 1` |\n",
        "| -- |\n",
        "\n",
        "| | 8 | 16 | 32 | 64 | 128 | 256 |\n",
        "| -- | -- | -- | -- | -- | -- | -- |\n",
        "| rand2 | FSBNDM | FSBNDM | FSBNDM | FSBNDM | FSBNDM | FSBNDM |\n",
        "| rand4 | <font color='green'>**AOSO2**</font> | <font color='blue'>**FAOSO4**</font> | <font color='blue'>**FAOSO4**</font> | <font color='blue'>**FAOSO4**</font> | <font color='blue'>**FAOSO4**</font> | FSBNDM |\n",
        "| rand8 | FSBNDM | <font color='blue'>**FAOSO4**</font> | FSBNDM | <font color='blue'>**FAOSO4**</font> | <font color='red'>**LNDBM**</font> | <font color='red'>**LNDBM**</font> |\n",
        "| rand16 | FSBNDM | FSBNDM | FSBNDM | FSBNDM | <font color='red'>**LNDBM**</font> | <font color='red'>**LNDBM**</font> |\n",
        "| rand32 | FSBNDM | FSBNDM | FSBNDM | FSBNDM | FSBNDM | <font color='red'>**LNDBM**</font> |\n",
        "| rand64 | FSBNDM | <font color='red'>**LNDBM**</font> | FSBNDM | FSBNDM | <font color='red'>**LNDBM**</font> | <font color='red'>**LNDBM**</font> |\n",
        "| rand128 | FSBNDM | FSBNDM | FSBNDM | FSBNDM | <font color='red'>**LNDBM**</font> | <font color='red'>**LNDBM**</font> |\n",
        "| rand250 | FSBNDM | FSBNDM | FSBNDM | <font color='red'>**LNDBM**</font> | FSBNDM | FSBNDM |\n",
        "| protein | FSBNDM | <font color='blue'>**FAOSO4**</font> | <font color='red'>**LNDBM**</font> | FSBNDM | FSBNDM | <font color='blue'>**FAOSO4**</font> |\n",
        "| genome | <font color='green'>**AOSO2**</font> | <font color='blue'>**FAOSO4**</font> | <font color='blue'>**FAOSO4**</font> | <font color='blue'>**FAOSO4**</font> | <font color='blue'>**FAOSO4**</font> | <font color='green'>**AOSO2**</font> |\n",
        "| italian | FSBNDM | <font color='blue'>**FAOSO4**</font> | FSBNDM | <font color='red'>**LNDBM**</font> | <font color='red'>**LNDBM**</font> | <font color='red'>**LNDBM**</font> |\n",
        "| english | <font color='green'>**AOSO2**</font> | FSBNDM | <font color='blue'>**FAOSO4**</font> | <font color='green'>**AOSO2**</font> | <font color='red'>**LNDBM**</font> | FSBNDM |\n",
        "\n",
        "We can tell a few words about this setup. First, generally the `FSBNDM` does pretty well except when the `text categories` are `rand4, rand8, genome,italian, english` texts. Second, it looks like `FSBNDM` the best performing algorithm does not understand `genome` texts at all. Third, the algorithms performance is almost balanced when the corpuses is from `english` texts. `FAOSO4` does well when the text categories are `rand4` and `genome` perhaps we can also say when `alphabet size` is `4`? because both these two have an alphabet size of `4`. Fourth, `LNDBM` performs quite well when the `pattern length` is high. Fifth, `AOSO2` the least performing algorithm among the four appears this time, it doesn't have any specific pattern. Finally, as you may already have imagined, it's not that simple to say this algorithm does better than the rest all depend on the provided circumstances. For example in our case we could have chosen to implement `FSBNDM` but what if we are searching on genome database for example, it could consume resources for long time unnecessary while we could have implemented `FAOSO4` instead. What if you seat back and let the simple tool help you decide in no time which algorithm to implement or to be run  based on the queries at hand?. Perfect! this table provided a glimpse on the need of that tool, because the algorithms behave differently under different conditions."
      ],
      "metadata": {
        "id": "QOyPhcUneE2B"
      }
    },
    {
      "cell_type": "markdown",
      "source": [
        "## Time to play Violin 🎻"
      ],
      "metadata": {
        "id": "hHjgYsbUWuHq"
      }
    },
    {
      "cell_type": "code",
      "source": [
        "fig,ax = plt.subplots(2,2,figsize=(15,10))\n",
        "ax = ax.flatten()\n",
        "algos = matching_data['Algorithm'].unique()\n",
        "# Total algo in play: 13\n",
        "orders = algos.reshape(6,3)\n",
        "orders = orders.tolist()\n",
        "# The last algo included\n",
        "#orders[-1] += [algos[-1]]\n",
        "for i in range(len(ax)):\n",
        "    sns.violinplot(data=matching_data, \n",
        "               x='Time [ms]',\n",
        "               y=\"Algorithm\",\n",
        "               order=orders[i],\n",
        "               ax=ax[i],\n",
        "               )\n"
      ],
      "metadata": {
        "colab": {
          "base_uri": "https://localhost:8080/"
        },
        "id": "5RwlZg0_pRuB",
        "outputId": "b825f3ea-f036-4eba-b285-59b3a620dd1c"
      },
      "execution_count": null,
      "outputs": [
        {
          "output_type": "display_data",
          "data": {
            "text/plain": [
              "<Figure size 1080x720 with 4 Axes>"
            ],
            "image/png": "[encoded data removed]"
          },
          "metadata": {
            "needs_background": "light"
          }
        }
      ]
    },
    {
      "cell_type": "markdown",
      "source": [
        "Most of the algorithms are centered across the median with a very little distribution when time increases. Remember `BM`, `KR` and `TW` were not among the best algorithms? We can also observe from the violin plot that their tail extends further than their counterparts."
      ],
      "metadata": {
        "id": "dbKW6rnMvqcz"
      }
    },
    {
      "cell_type": "markdown",
      "source": [
        "# Key take aways\n",
        "\n",
        "\n",
        "1.   The algorithm distributions are right-skewed.[here](#scrollTo=TXug62-xzEu1) and [here](#scrollTo=hHjgYsbUWuHq)\n",
        "2.   Attributes exhibit different scaling and there is a possibility to [apply log scales](#scrollTo=LSXqjPksi5uZ), etc.\n",
        "3.   The time attribute immitates an [exponential](#scrollTo=7Yn8F8rp3DFb) distribution.\n",
        "4.   `BM`,`KR` and `TW` didn't [win](#scrollTo=UvvpuD5KApeX) in either of the test experiments.\n",
        "5.   Smart dataset is [uneven](#scrollTo=UvvpuD5KApeX) distributed. We must be careful when we split the data and choose the performance metrics.\n",
        "6.   In most cases, `FSBNDM` algorithm seems to perform better than it's rivals especially when the corpus is [random](#scrollTo=QOyPhcUneE2B).\n",
        "7.   The best algorithm `FSBNDM` seems not to quickly understand `genome` texts and competes [fairly](#scrollTo=QOyPhcUneE2B) with its rivals for the corpuses which are not random.\n",
        "8.   The `LBNDM` second best algorithm performs better for higher [pattern](#scrollTo=QOyPhcUneE2B) lengths.\n",
        "9.   The `FAOSO4` seems [better](#scrollTo=QOyPhcUneE2B) for `genome` and `rand4`\n",
        "\n"
      ],
      "metadata": {
        "id": "SltKi507_Oi9"
      }
    },
    {
      "cell_type": "markdown",
      "source": [
        "# Feature Engineering\n",
        "\n",
        "Before marching forward, we can create additional features from the pre-existing ones. We have `time` and `text size` combining these two we may calculate the algorithm speeds using the formula: `speed = text size / time`"
      ],
      "metadata": {
        "id": "q1sJ0V4W8zOX"
      }
    },
    {
      "cell_type": "code",
      "source": [
        "# speed in GB/s\n",
        "matching_data['speed'] = (matching_data['Text Size [MB]'] / matching_data['Time [ms]'])*1000/1024"
      ],
      "metadata": {
        "id": "REvBffwtRcfQ"
      },
      "execution_count": null,
      "outputs": []
    },
    {
      "cell_type": "markdown",
      "source": [
        "# Modeling"
      ],
      "metadata": {
        "id": "5rXfsgyD9SVq"
      }
    },
    {
      "cell_type": "code",
      "source": [
        "## Import important libraries\n",
        "from sklearn.model_selection import train_test_split,StratifiedShuffleSplit"
      ],
      "metadata": {
        "id": "F2DSwaNA0iTw"
      },
      "execution_count": null,
      "outputs": []
    },
    {
      "cell_type": "markdown",
      "source": [
        "## None Null Data\n",
        "\n",
        "This time around we take a look at the actual data points for model development by simply ommiting the null from the `Best Algo` column."
      ],
      "metadata": {
        "id": "x3scXLtNV-2b"
      }
    },
    {
      "cell_type": "code",
      "source": [
        "smart = matching_data[matching_data['Best Algo'].notnull()].reset_index()\n",
        "smart.drop('index',axis=1,inplace=True)\n",
        "smart.describe()"
      ],
      "metadata": {
        "colab": {
          "base_uri": "https://localhost:8080/"
        },
        "id": "wJmRl-uFXcdU",
        "outputId": "e5517d9d-ce02-441a-fbbe-382bb03505c2"
      },
      "execution_count": null,
      "outputs": [
        {
          "output_type": "execute_result",
          "data": {
            "text/plain": [
              "       Text Size [MB]  Pattern Length  Alphabet Size   Time [ms]       speed\n",
              "count      488.000000      488.000000     488.000000  488.000000  488.000000\n",
              "mean        16.245902      207.803279      74.479508   13.398689    1.899483\n",
              "std         19.560389      315.583216      71.055691   21.253500    0.959434\n",
              "min          1.000000        2.000000       2.000000    0.220000    0.464764\n",
              "25%          1.000000        8.000000      14.000000    1.280000    1.169118\n",
              "50%          5.000000       64.000000      64.000000    4.225000    1.860119\n",
              "75%         10.000000      256.000000     128.000000   20.305000    2.441406\n",
              "max         50.000000     1024.000000     250.000000  105.060000    4.438920"
            ],
            "text/html": [
              "\n",
              "  <div id=\"df-49e35c30-d72c-493b-8e92-a4e345a716b5\">\n",
              "    <div class=\"colab-df-container\">\n",
              "      <div>\n",
              "<style scoped>\n",
              "    .dataframe tbody tr th:only-of-type {\n",
              "        vertical-align: middle;\n",
              "    }\n",
              "\n",
              "    .dataframe tbody tr th {\n",
              "        vertical-align: top;\n",
              "    }\n",
              "\n",
              "    .dataframe thead th {\n",
              "        text-align: right;\n",
              "    }\n",
              "</style>\n",
              "<table border=\"1\" class=\"dataframe\">\n",
              "  <thead>\n",
              "    <tr style=\"text-align: right;\">\n",
              "      <th></th>\n",
              "      <th>Text Size [MB]</th>\n",
              "      <th>Pattern Length</th>\n",
              "      <th>Alphabet Size</th>\n",
              "      <th>Time [ms]</th>\n",
              "      <th>speed</th>\n",
              "    </tr>\n",
              "  </thead>\n",
              "  <tbody>\n",
              "    <tr>\n",
              "      <th>count</th>\n",
              "      <td>488.000000</td>\n",
              "      <td>488.000000</td>\n",
              "      <td>488.000000</td>\n",
              "      <td>488.000000</td>\n",
              "      <td>488.000000</td>\n",
              "    </tr>\n",
              "    <tr>\n",
              "      <th>mean</th>\n",
              "      <td>16.245902</td>\n",
              "      <td>207.803279</td>\n",
              "      <td>74.479508</td>\n",
              "      <td>13.398689</td>\n",
              "      <td>1.899483</td>\n",
              "    </tr>\n",
              "    <tr>\n",
              "      <th>std</th>\n",
              "      <td>19.560389</td>\n",
              "      <td>315.583216</td>\n",
              "      <td>71.055691</td>\n",
              "      <td>21.253500</td>\n",
              "      <td>0.959434</td>\n",
              "    </tr>\n",
              "    <tr>\n",
              "      <th>min</th>\n",
              "      <td>1.000000</td>\n",
              "      <td>2.000000</td>\n",
              "      <td>2.000000</td>\n",
              "      <td>0.220000</td>\n",
              "      <td>0.464764</td>\n",
              "    </tr>\n",
              "    <tr>\n",
              "      <th>25%</th>\n",
              "      <td>1.000000</td>\n",
              "      <td>8.000000</td>\n",
              "      <td>14.000000</td>\n",
              "      <td>1.280000</td>\n",
              "      <td>1.169118</td>\n",
              "    </tr>\n",
              "    <tr>\n",
              "      <th>50%</th>\n",
              "      <td>5.000000</td>\n",
              "      <td>64.000000</td>\n",
              "      <td>64.000000</td>\n",
              "      <td>4.225000</td>\n",
              "      <td>1.860119</td>\n",
              "    </tr>\n",
              "    <tr>\n",
              "      <th>75%</th>\n",
              "      <td>10.000000</td>\n",
              "      <td>256.000000</td>\n",
              "      <td>128.000000</td>\n",
              "      <td>20.305000</td>\n",
              "      <td>2.441406</td>\n",
              "    </tr>\n",
              "    <tr>\n",
              "      <th>max</th>\n",
              "      <td>50.000000</td>\n",
              "      <td>1024.000000</td>\n",
              "      <td>250.000000</td>\n",
              "      <td>105.060000</td>\n",
              "      <td>4.438920</td>\n",
              "    </tr>\n",
              "  </tbody>\n",
              "</table>\n",
              "</div>\n",
              "      <button class=\"colab-df-convert\" onclick=\"convertToInteractive('df-49e35c30-d72c-493b-8e92-a4e345a716b5')\"\n",
              "              title=\"Convert this dataframe to an interactive table.\"\n",
              "              style=\"display:none;\">\n",
              "        \n",
              "  <svg xmlns=\"http://www.w3.org/2000/svg\" height=\"24px\"viewBox=\"0 0 24 24\"\n",
              "       width=\"24px\">\n",
              "    <path d=\"M0 0h24v24H0V0z\" fill=\"none\"/>\n",
              "    <path d=\"M18.56 5.44l.94 2.06.94-2.06 2.06-.94-2.06-.94-.94-2.06-.94 2.06-2.06.94zm-11 1L8.5 8.5l.94-2.06 2.06-.94-2.06-.94L8.5 2.5l-.94 2.06-2.06.94zm10 10l.94 2.06.94-2.06 2.06-.94-2.06-.94-.94-2.06-.94 2.06-2.06.94z\"/><path d=\"M17.41 7.96l-1.37-1.37c-.4-.4-.92-.59-1.43-.59-.52 0-1.04.2-1.43.59L10.3 9.45l-7.72 7.72c-.78.78-.78 2.05 0 2.83L4 21.41c.39.39.9.59 1.41.59.51 0 1.02-.2 1.41-.59l7.78-7.78 2.81-2.81c.8-.78.8-2.07 0-2.86zM5.41 20L4 18.59l7.72-7.72 1.47 1.35L5.41 20z\"/>\n",
              "  </svg>\n",
              "      </button>\n",
              "      \n",
              "  <style>\n",
              "    .colab-df-container {\n",
              "      display:flex;\n",
              "      flex-wrap:wrap;\n",
              "      gap: 12px;\n",
              "    }\n",
              "\n",
              "    .colab-df-convert {\n",
              "      background-color: #E8F0FE;\n",
              "      border: none;\n",
              "      border-radius: 50%;\n",
              "      cursor: pointer;\n",
              "      display: none;\n",
              "      fill: #1967D2;\n",
              "      height: 32px;\n",
              "      padding: 0 0 0 0;\n",
              "      width: 32px;\n",
              "    }\n",
              "\n",
              "    .colab-df-convert:hover {\n",
              "      background-color: #E2EBFA;\n",
              "      box-shadow: 0px 1px 2px rgba(60, 64, 67, 0.3), 0px 1px 3px 1px rgba(60, 64, 67, 0.15);\n",
              "      fill: #174EA6;\n",
              "    }\n",
              "\n",
              "    [theme=dark] .colab-df-convert {\n",
              "      background-color: #3B4455;\n",
              "      fill: #D2E3FC;\n",
              "    }\n",
              "\n",
              "    [theme=dark] .colab-df-convert:hover {\n",
              "      background-color: #434B5C;\n",
              "      box-shadow: 0px 1px 3px 1px rgba(0, 0, 0, 0.15);\n",
              "      filter: drop-shadow(0px 1px 2px rgba(0, 0, 0, 0.3));\n",
              "      fill: #FFFFFF;\n",
              "    }\n",
              "  </style>\n",
              "\n",
              "      <script>\n",
              "        const buttonEl =\n",
              "          document.querySelector('#df-49e35c30-d72c-493b-8e92-a4e345a716b5 button.colab-df-convert');\n",
              "        buttonEl.style.display =\n",
              "          google.colab.kernel.accessAllowed ? 'block' : 'none';\n",
              "\n",
              "        async function convertToInteractive(key) {\n",
              "          const element = document.querySelector('#df-49e35c30-d72c-493b-8e92-a4e345a716b5');\n",
              "          const dataTable =\n",
              "            await google.colab.kernel.invokeFunction('convertToInteractive',\n",
              "                                                     [key], {});\n",
              "          if (!dataTable) return;\n",
              "\n",
              "          const docLinkHtml = 'Like what you see? Visit the ' +\n",
              "            '<a target=\"_blank\" href=https://colab.research.google.com/notebooks/data_table.ipynb>data table notebook</a>'\n",
              "            + ' to learn more about interactive tables.';\n",
              "          element.innerHTML = '';\n",
              "          dataTable['output_type'] = 'display_data';\n",
              "          await google.colab.output.renderOutput(dataTable, element);\n",
              "          const docLink = document.createElement('div');\n",
              "          docLink.innerHTML = docLinkHtml;\n",
              "          element.appendChild(docLink);\n",
              "        }\n",
              "      </script>\n",
              "    </div>\n",
              "  </div>\n",
              "  "
            ]
          },
          "metadata": {},
          "execution_count": 21
        }
      ]
    },
    {
      "cell_type": "markdown",
      "source": [
        "## Data clean up and transformation\n"
      ],
      "metadata": {
        "id": "tQwuQ0qZ8Oic"
      }
    },
    {
      "cell_type": "markdown",
      "source": [
        "### Dataset preprocessing pipeline for numerical features.\n",
        "\n",
        "That's right we did add the speed during feature engineering step, however its a common practice to build a custom transformer to do just that. This transformation will later be part of an end to end transformation pipeline. We could have done it earlier but okay we will drop the `speed` feature and re-add using a novice technique. I promise not to touch the `strat_test` again until we are done with model development."
      ],
      "metadata": {
        "id": "AoUaqFWS1Moc"
      }
    },
    {
      "cell_type": "code",
      "source": [
        "# Later take a look here, comment out this code\n",
        "for data in (strat_train,strat_test):\n",
        "    data.drop('speed',axis=1, inplace=True)\n"
      ],
      "metadata": {
        "id": "mImHobrZ3M3U"
      },
      "execution_count": null,
      "outputs": []
    },
    {
      "cell_type": "markdown",
      "source": [
        "Now `Algorithm` and `Best Algo` attributes looks similar, we can delete one of those. We delete `Best Algo`."
      ],
      "metadata": {
        "id": "IsWnm1DK9X82"
      }
    },
    {
      "cell_type": "code",
      "source": [
        "smart_train = strat_train.drop('Best Algo',axis=1)"
      ],
      "metadata": {
        "id": "HZF2beSF95wi"
      },
      "execution_count": null,
      "outputs": []
    },
    {
      "cell_type": "markdown",
      "source": [
        "Next, we set aside the training features and label. It is not necessary that they exhibit the same transformations."
      ],
      "metadata": {
        "id": "U9NS2JZF-aA_"
      }
    },
    {
      "cell_type": "code",
      "source": [
        "smart_train.drop('Algorithm',axis=1,inplace=True) # Remove Algorithm from features its a label\n",
        "smart_train_labels = strat_train['Algorithm'].copy()"
      ],
      "metadata": {
        "id": "H2xU-Rtd-1su"
      },
      "execution_count": null,
      "outputs": []
    },
    {
      "cell_type": "markdown",
      "source": [
        "Then, we remove categorical attributes from the train set as we can't scale on them."
      ],
      "metadata": {
        "id": "8QGeV0EPAjov"
      }
    },
    {
      "cell_type": "code",
      "source": [
        "cat = ['Category']\n",
        "smart_train_num = smart_train.drop(cat,axis=1,)"
      ],
      "metadata": {
        "id": "HKhOhqvRBAsG"
      },
      "execution_count": null,
      "outputs": []
    },
    {
      "cell_type": "code",
      "source": [
        "smart_train_num.info()"
      ],
      "metadata": {
        "colab": {
          "base_uri": "https://localhost:8080/"
        },
        "id": "BYpJy0q2EtDE",
        "outputId": "1b101e02-9b50-400a-aff6-12906cc44f87"
      },
      "execution_count": null,
      "outputs": [
        {
          "output_type": "stream",
          "name": "stdout",
          "text": [
            "<class 'pandas.core.frame.DataFrame'>\n",
            "Int64Index: 390 entries, 5 to 416\n",
            "Data columns (total 4 columns):\n",
            " #   Column          Non-Null Count  Dtype  \n",
            "---  ------          --------------  -----  \n",
            " 0   Text Size [MB]  390 non-null    float64\n",
            " 1   Pattern Length  390 non-null    int64  \n",
            " 2   Alphabet Size   390 non-null    float64\n",
            " 3   Time [ms]       390 non-null    float64\n",
            "dtypes: float64(3), int64(1)\n",
            "memory usage: 15.2 KB\n"
          ]
        }
      ]
    },
    {
      "cell_type": "code",
      "source": [
        "smart_train_num"
      ],
      "metadata": {
        "colab": {
          "base_uri": "https://localhost:8080/"
        },
        "id": "lH6Ff-T9LACR",
        "outputId": "9228fd87-97c1-451e-fe75-24c063f2d206"
      },
      "execution_count": null,
      "outputs": [
        {
          "output_type": "execute_result",
          "data": {
            "text/plain": [
              "     Text Size [MB]  Pattern Length  Alphabet Size  Time [ms]\n",
              "5               1.0              32            2.0       0.74\n",
              "12              5.0             128            2.0       3.93\n",
              "426             5.0              32          128.0       2.87\n",
              "303             5.0               4          250.0       3.25\n",
              "158            50.0               4           16.0      55.41\n",
              "..              ...             ...            ...        ...\n",
              "314            10.0            1024          250.0       2.35\n",
              "230            10.0              32           64.0       4.00\n",
              "373             1.0              16           64.0       0.88\n",
              "410             1.0              32          128.0       0.50\n",
              "416             1.0               8          128.0       0.51\n",
              "\n",
              "[390 rows x 4 columns]"
            ],
            "text/html": [
              "\n",
              "  <div id=\"df-a69faa11-5be3-40c2-be4f-1fd0fbe3fff9\">\n",
              "    <div class=\"colab-df-container\">\n",
              "      <div>\n",
              "<style scoped>\n",
              "    .dataframe tbody tr th:only-of-type {\n",
              "        vertical-align: middle;\n",
              "    }\n",
              "\n",
              "    .dataframe tbody tr th {\n",
              "        vertical-align: top;\n",
              "    }\n",
              "\n",
              "    .dataframe thead th {\n",
              "        text-align: right;\n",
              "    }\n",
              "</style>\n",
              "<table border=\"1\" class=\"dataframe\">\n",
              "  <thead>\n",
              "    <tr style=\"text-align: right;\">\n",
              "      <th></th>\n",
              "      <th>Text Size [MB]</th>\n",
              "      <th>Pattern Length</th>\n",
              "      <th>Alphabet Size</th>\n",
              "      <th>Time [ms]</th>\n",
              "    </tr>\n",
              "  </thead>\n",
              "  <tbody>\n",
              "    <tr>\n",
              "      <th>5</th>\n",
              "      <td>1.0</td>\n",
              "      <td>32</td>\n",
              "      <td>2.0</td>\n",
              "      <td>0.74</td>\n",
              "    </tr>\n",
              "    <tr>\n",
              "      <th>12</th>\n",
              "      <td>5.0</td>\n",
              "      <td>128</td>\n",
              "      <td>2.0</td>\n",
              "      <td>3.93</td>\n",
              "    </tr>\n",
              "    <tr>\n",
              "      <th>426</th>\n",
              "      <td>5.0</td>\n",
              "      <td>32</td>\n",
              "      <td>128.0</td>\n",
              "      <td>2.87</td>\n",
              "    </tr>\n",
              "    <tr>\n",
              "      <th>303</th>\n",
              "      <td>5.0</td>\n",
              "      <td>4</td>\n",
              "      <td>250.0</td>\n",
              "      <td>3.25</td>\n",
              "    </tr>\n",
              "    <tr>\n",
              "      <th>158</th>\n",
              "      <td>50.0</td>\n",
              "      <td>4</td>\n",
              "      <td>16.0</td>\n",
              "      <td>55.41</td>\n",
              "    </tr>\n",
              "    <tr>\n",
              "      <th>...</th>\n",
              "      <td>...</td>\n",
              "      <td>...</td>\n",
              "      <td>...</td>\n",
              "      <td>...</td>\n",
              "    </tr>\n",
              "    <tr>\n",
              "      <th>314</th>\n",
              "      <td>10.0</td>\n",
              "      <td>1024</td>\n",
              "      <td>250.0</td>\n",
              "      <td>2.35</td>\n",
              "    </tr>\n",
              "    <tr>\n",
              "      <th>230</th>\n",
              "      <td>10.0</td>\n",
              "      <td>32</td>\n",
              "      <td>64.0</td>\n",
              "      <td>4.00</td>\n",
              "    </tr>\n",
              "    <tr>\n",
              "      <th>373</th>\n",
              "      <td>1.0</td>\n",
              "      <td>16</td>\n",
              "      <td>64.0</td>\n",
              "      <td>0.88</td>\n",
              "    </tr>\n",
              "    <tr>\n",
              "      <th>410</th>\n",
              "      <td>1.0</td>\n",
              "      <td>32</td>\n",
              "      <td>128.0</td>\n",
              "      <td>0.50</td>\n",
              "    </tr>\n",
              "    <tr>\n",
              "      <th>416</th>\n",
              "      <td>1.0</td>\n",
              "      <td>8</td>\n",
              "      <td>128.0</td>\n",
              "      <td>0.51</td>\n",
              "    </tr>\n",
              "  </tbody>\n",
              "</table>\n",
              "<p>390 rows × 4 columns</p>\n",
              "</div>\n",
              "      <button class=\"colab-df-convert\" onclick=\"convertToInteractive('df-a69faa11-5be3-40c2-be4f-1fd0fbe3fff9')\"\n",
              "              title=\"Convert this dataframe to an interactive table.\"\n",
              "              style=\"display:none;\">\n",
              "        \n",
              "  <svg xmlns=\"http://www.w3.org/2000/svg\" height=\"24px\"viewBox=\"0 0 24 24\"\n",
              "       width=\"24px\">\n",
              "    <path d=\"M0 0h24v24H0V0z\" fill=\"none\"/>\n",
              "    <path d=\"M18.56 5.44l.94 2.06.94-2.06 2.06-.94-2.06-.94-.94-2.06-.94 2.06-2.06.94zm-11 1L8.5 8.5l.94-2.06 2.06-.94-2.06-.94L8.5 2.5l-.94 2.06-2.06.94zm10 10l.94 2.06.94-2.06 2.06-.94-2.06-.94-.94-2.06-.94 2.06-2.06.94z\"/><path d=\"M17.41 7.96l-1.37-1.37c-.4-.4-.92-.59-1.43-.59-.52 0-1.04.2-1.43.59L10.3 9.45l-7.72 7.72c-.78.78-.78 2.05 0 2.83L4 21.41c.39.39.9.59 1.41.59.51 0 1.02-.2 1.41-.59l7.78-7.78 2.81-2.81c.8-.78.8-2.07 0-2.86zM5.41 20L4 18.59l7.72-7.72 1.47 1.35L5.41 20z\"/>\n",
              "  </svg>\n",
              "      </button>\n",
              "      \n",
              "  <style>\n",
              "    .colab-df-container {\n",
              "      display:flex;\n",
              "      flex-wrap:wrap;\n",
              "      gap: 12px;\n",
              "    }\n",
              "\n",
              "    .colab-df-convert {\n",
              "      background-color: #E8F0FE;\n",
              "      border: none;\n",
              "      border-radius: 50%;\n",
              "      cursor: pointer;\n",
              "      display: none;\n",
              "      fill: #1967D2;\n",
              "      height: 32px;\n",
              "      padding: 0 0 0 0;\n",
              "      width: 32px;\n",
              "    }\n",
              "\n",
              "    .colab-df-convert:hover {\n",
              "      background-color: #E2EBFA;\n",
              "      box-shadow: 0px 1px 2px rgba(60, 64, 67, 0.3), 0px 1px 3px 1px rgba(60, 64, 67, 0.15);\n",
              "      fill: #174EA6;\n",
              "    }\n",
              "\n",
              "    [theme=dark] .colab-df-convert {\n",
              "      background-color: #3B4455;\n",
              "      fill: #D2E3FC;\n",
              "    }\n",
              "\n",
              "    [theme=dark] .colab-df-convert:hover {\n",
              "      background-color: #434B5C;\n",
              "      box-shadow: 0px 1px 3px 1px rgba(0, 0, 0, 0.15);\n",
              "      filter: drop-shadow(0px 1px 2px rgba(0, 0, 0, 0.3));\n",
              "      fill: #FFFFFF;\n",
              "    }\n",
              "  </style>\n",
              "\n",
              "      <script>\n",
              "        const buttonEl =\n",
              "          document.querySelector('#df-a69faa11-5be3-40c2-be4f-1fd0fbe3fff9 button.colab-df-convert');\n",
              "        buttonEl.style.display =\n",
              "          google.colab.kernel.accessAllowed ? 'block' : 'none';\n",
              "\n",
              "        async function convertToInteractive(key) {\n",
              "          const element = document.querySelector('#df-a69faa11-5be3-40c2-be4f-1fd0fbe3fff9');\n",
              "          const dataTable =\n",
              "            await google.colab.kernel.invokeFunction('convertToInteractive',\n",
              "                                                     [key], {});\n",
              "          if (!dataTable) return;\n",
              "\n",
              "          const docLinkHtml = 'Like what you see? Visit the ' +\n",
              "            '<a target=\"_blank\" href=https://colab.research.google.com/notebooks/data_table.ipynb>data table notebook</a>'\n",
              "            + ' to learn more about interactive tables.';\n",
              "          element.innerHTML = '';\n",
              "          dataTable['output_type'] = 'display_data';\n",
              "          await google.colab.output.renderOutput(dataTable, element);\n",
              "          const docLink = document.createElement('div');\n",
              "          docLink.innerHTML = docLinkHtml;\n",
              "          element.appendChild(docLink);\n",
              "        }\n",
              "      </script>\n",
              "    </div>\n",
              "  </div>\n",
              "  "
            ]
          },
          "metadata": {},
          "execution_count": 37
        }
      ]
    },
    {
      "cell_type": "markdown",
      "source": [
        "Our dataset seems to contain no missing entries, thus imputation may not be significant. Next, we decide to add more features. We define the custom transformer to perform this job. The class extends the `base` class from scikit-learn library. "
      ],
      "metadata": {
        "id": "SS5I4mZOH4xu"
      }
    },
    {
      "cell_type": "code",
      "source": [
        "from sklearn.base import BaseEstimator, TransformerMixin\n",
        "# txt_size_index = 0\n",
        "# time_index = 3\n",
        "txt_size_index,time_index = [smart_train_num.columns.get_loc(col) for col in ['Text Size [MB]','Time [ms]']]\n",
        "print(txt_size_index,time_index)\n",
        "class AttributesAdder(BaseEstimator,TransformerMixin):\n",
        "    def __init__(self,addSpeed=False,dropTime=True):\n",
        "        self.addSpeed = addSpeed\n",
        "        self.dropTime = dropTime\n",
        "    \n",
        "    def fit(self, X, y=None):\n",
        "        return self\n",
        "\n",
        "    def transform(self,X):\n",
        "        if self.addSpeed:\n",
        "            speed = (X.iloc[:,txt_size_index] / X.iloc[:,time_index]) * 1000/1024\n",
        "            return np.c_[X,speed]\n",
        "        if self.dropTime:\n",
        "            return np.delete(X.values,time_index,1)\n",
        "        return X"
      ],
      "metadata": {
        "id": "PW0s6QY0JPSq",
        "colab": {
          "base_uri": "https://localhost:8080/"
        },
        "outputId": "bee04921-ed7c-4900-d59b-f2b06c44b6bd"
      },
      "execution_count": null,
      "outputs": [
        {
          "output_type": "stream",
          "name": "stdout",
          "text": [
            "0 3\n"
          ]
        }
      ]
    },
    {
      "cell_type": "markdown",
      "source": [
        "We noted previously that the samples are all positive and that they are right-skewed. In this case we may try to implement a log transformation. Two advantages here, we will be less affected by outliers and also the dataset could be normally distributed which is an important recipe to Machine Learning models. We will use scikit-Learn `FunctionTransformer` class to apply `np.log1p` transformation to the dataset. We could also have decided to implement our own scaling function as per above template class `AttributesAdder`"
      ],
      "metadata": {
        "id": "h916blnhOEo_"
      }
    },
    {
      "cell_type": "code",
      "source": [
        "from sklearn.preprocessing import FunctionTransformer\n",
        "log_scaling = FunctionTransformer(func=np.log1p, validate=True)"
      ],
      "metadata": {
        "id": "yqbTzbQpQPnT"
      },
      "execution_count": null,
      "outputs": []
    },
    {
      "cell_type": "markdown",
      "source": [
        "Almost done with numerical data processing steps, Let's combine the two transformations we just did into one pipe. Ok, we make use of the `Pipeline` class from scikit-learn."
      ],
      "metadata": {
        "id": "qR6O1JXzRLeX"
      }
    },
    {
      "cell_type": "code",
      "source": [
        "from sklearn.pipeline import Pipeline\n",
        "numerical_pipe = Pipeline([\n",
        "                           ('add_drop_attributes',AttributesAdder()),\n",
        "                           ('log_scaler',FunctionTransformer(func=np.log1p, validate=True))\n",
        "])\n"
      ],
      "metadata": {
        "id": "T0Y3EPlKSn8f"
      },
      "execution_count": null,
      "outputs": []
    },
    {
      "cell_type": "markdown",
      "source": [
        "Let's check how the numerical data looks like, before and after transformation."
      ],
      "metadata": {
        "id": "rfVsctG3UmuJ"
      }
    },
    {
      "cell_type": "code",
      "source": [
        "smart_train_num_tr = numerical_pipe.fit_transform(smart_train_num)\n",
        "smart_train_num_tr"
      ],
      "metadata": {
        "colab": {
          "base_uri": "https://localhost:8080/"
        },
        "id": "0588smNPU76i",
        "outputId": "9d0535e8-976a-4a3b-870b-3ae1f10e4859"
      },
      "execution_count": null,
      "outputs": [
        {
          "output_type": "execute_result",
          "data": {
            "text/plain": [
              "array([[0.69314718, 3.49650756, 1.09861229],\n",
              "       [1.79175947, 4.8598124 , 1.09861229],\n",
              "       [1.79175947, 3.49650756, 4.8598124 ],\n",
              "       ...,\n",
              "       [0.69314718, 2.83321334, 4.17438727],\n",
              "       [0.69314718, 3.49650756, 4.8598124 ],\n",
              "       [0.69314718, 2.19722458, 4.8598124 ]])"
            ]
          },
          "metadata": {},
          "execution_count": 41
        }
      ]
    },
    {
      "cell_type": "code",
      "source": [
        "# Plots\n",
        "\n",
        "# num = ['Text Size [MB]','Pattern Length','Alphabet Size','Time [ms]','speed [GB/s]']\n",
        "num = ['Text Size [MB]','Pattern Length','Alphabet Size']\n",
        "smart_train_num_tmp = AttributesAdder().fit_transform(smart_train_num)\n",
        "smart_train_num_tr_df = pd.DataFrame(smart_train_num_tr,columns=num)\n",
        "smart_train_num_tmp_df = pd.DataFrame(smart_train_num_tmp,columns=num)\n",
        "#print(smart_train_num_tmp)\n",
        "fig,ax = plt.subplots(2,3,figsize=(15,5))\n",
        "ax = ax.flatten()\n",
        "\n",
        "for i in range(len(ax)):\n",
        "    \n",
        "    if (i<3):\n",
        "        # Untransformed plots: First row\n",
        "        smart_train_num_tmp_df[num[i]].plot(kind='kde',ax=ax[i])\n",
        "        ax[i].set_ylabel('')\n",
        "    else:\n",
        "        # Transformed Plots: second row\n",
        "        smart_train_num_tr_df[num[i-3]].plot(kind='kde',ax=ax[i])\n",
        "        ax[i].set_xlabel(num[i-3])\n",
        "        ax[i].set_ylabel('')\n",
        "        \n",
        "ax[0].set_ylabel('Before Transformation')\n",
        "ax[3].set_ylabel('After Transformation')\n",
        "for axix in ax:\n",
        "    axix.tick_params(\n",
        "        axis='y',\n",
        "        which='both',\n",
        "        left=False,\n",
        "        labelleft=False,\n",
        "    )\n"
      ],
      "metadata": {
        "colab": {
          "base_uri": "https://localhost:8080/"
        },
        "id": "ZzfzoJnHYrTh",
        "outputId": "00976c70-da4e-4269-ca65-b89abc708b8b"
      },
      "execution_count": null,
      "outputs": [
        {
          "output_type": "display_data",
          "data": {
            "text/plain": [
              "<Figure size 1080x360 with 6 Axes>"
            ],
            "image/png": "[encoded data removed]"
          },
          "metadata": {
            "needs_background": "light"
          }
        }
      ]
    },
    {
      "cell_type": "markdown",
      "source": [
        "Looking at the plots (x-axis and the shape) we notice the scaling effect especially when the attributes are skewed. The log scale did try to normalize the data to follow gaussian normal distribution. There are quite a number of scaling options available, to mention a few of them: Min-Max, standard, robust, and power and log based scalers. We will revisit some of those options if need be as model performance could be affected with the scaler choice which in deed depends on the dataset at hand."
      ],
      "metadata": {
        "id": "8LzACt5ph3hK"
      }
    },
    {
      "cell_type": "markdown",
      "source": [
        "## Dataset preprocessing pipeline for categorical features.\n",
        "\n",
        "In the previous section we developed a pipeline to first add additional attributes and second perform scaling on numerical features. In this section we try to encode the text enchriched `category` attribute. We can consider Label or one hot encoding methods. With the classical label encoder the categories are firstly sorted (not necessary though, you can create a custom one with your own rules) in ascending order and then each assigned an ordinal number from `0` to `n-1` where `n` is the total number of unique classes/categories available. This might not be a good approach into features representation as it might happen that a machine learning algorithm think that `0` and `1` are related to each other because they are close to each other, while in reality perhaps class `0` has a close relationship with class `10` for instance. The representation might be good in some use cases such as rating a product, it's true that 0 is related to 1 etc. In contrast, one hot encoders typically assigns `1` (hot) to this particular class and `0` (cold) to the rest. These additional attributes (zeros) are sometimes refered as dummy attributes. So all have equal weight in this case a machine learning algorithm won't make up things.\n",
        "\n",
        "In this section apart from adopting a one-hot encoder from sklearn library, we also adopt `columnTransformer` class which helps us to apply transformations to individual columns we specify. We can also `drop` or `passthrough` columns we don't want to apply transformations. Let's see how it goes. Remember we split the dataset to train and test sets?, that's right, but we real messed with the copy of it. But now we want after data split, we hit straight to pipelines all done in a seemless way as below steps:-\n",
        "\n",
        "1.   Drop unrequired attributes (`Best Algo`): automatically dropped\n",
        "2.   Drop a label column (`Algorithm`): automatically dropped\n",
        "3.   Drop Categorical feature (`Category`): automatically dropped\n",
        "4.   Apply AttributesAdder transformer to add features (`speed`)\n",
        "5.   Apply feature scaling using the `FunctionTransformer`\n",
        "6.   Apply one-hot encoding to categorical features\n",
        "\n",
        "That's it, features are ready for machine learning algorithms consumption. Later, we will take care of the label column, its categorical perhaps ordinal encoding will do the trick here and since we are not aiming at developing a `multi-output model` we won't do a one-hot encoding."
      ],
      "metadata": {
        "id": "vqCeJE7SlYI3"
      }
    },
    {
      "cell_type": "code",
      "source": [
        "from sklearn.preprocessing import OneHotEncoder\n",
        "from sklearn.compose import ColumnTransformer\n",
        "\n",
        "num_attributes = ['Text Size [MB]','Pattern Length','Alphabet Size','Time [ms]']\n",
        "cat_attributes = ['Category']\n",
        "\n",
        "features_full_pipeline = ColumnTransformer([\n",
        "                                            (\"num_attr\",numerical_pipe,num_attributes),\n",
        "                                            (\"cat_attr\",OneHotEncoder(),cat_attributes),\n",
        "])"
      ],
      "metadata": {
        "id": "-FO3Twmx1W2d"
      },
      "execution_count": null,
      "outputs": []
    },
    {
      "cell_type": "code",
      "source": [
        "# Both Train and Test Sets\n",
        "full_set = strat_train.append(strat_test)\n",
        "print(full_set.shape)"
      ],
      "metadata": {
        "colab": {
          "base_uri": "https://localhost:8080/"
        },
        "id": "0n514Mn9-rbe",
        "outputId": "d9ae8a46-f8eb-4f83-c4e1-f48f369e4c38"
      },
      "execution_count": null,
      "outputs": [
        {
          "output_type": "stream",
          "name": "stdout",
          "text": [
            "(488, 7)\n"
          ]
        }
      ]
    },
    {
      "cell_type": "code",
      "source": [
        "smart_features = features_full_pipeline.fit_transform(full_set)"
      ],
      "metadata": {
        "id": "w4j9grA3R_cO"
      },
      "execution_count": null,
      "outputs": []
    },
    {
      "cell_type": "code",
      "source": [
        "smart_features.shape"
      ],
      "metadata": {
        "colab": {
          "base_uri": "https://localhost:8080/"
        },
        "id": "7cVnxdfFXP3k",
        "outputId": "35e7e468-0408-42f6-a8e4-1ed6b8baac2b"
      },
      "execution_count": null,
      "outputs": [
        {
          "output_type": "execute_result",
          "data": {
            "text/plain": [
              "(488, 15)"
            ]
          },
          "metadata": {},
          "execution_count": 46
        }
      ]
    },
    {
      "cell_type": "markdown",
      "source": [
        "One last thing, Let's encode the smart dataset labels."
      ],
      "metadata": {
        "id": "w_unPz2kYepo"
      }
    },
    {
      "cell_type": "code",
      "source": [
        "from sklearn.preprocessing import OrdinalEncoder\n",
        "\n",
        "labels_full_pipeline = Pipeline([\n",
        "                         ('labels',OrdinalEncoder())\n",
        "])\n",
        "\n",
        "smart_labels = labels_full_pipeline.fit_transform(full_set['Algorithm'].values.reshape(-1,1))"
      ],
      "metadata": {
        "id": "EVH7bM9qNOsv"
      },
      "execution_count": null,
      "outputs": []
    },
    {
      "cell_type": "code",
      "source": [
        "smart_labels.shape"
      ],
      "metadata": {
        "colab": {
          "base_uri": "https://localhost:8080/"
        },
        "id": "tdYllfRzQYk4",
        "outputId": "cf21fe85-0172-483c-daa7-dcc86dc0a749"
      },
      "execution_count": null,
      "outputs": [
        {
          "output_type": "execute_result",
          "data": {
            "text/plain": [
              "(488, 1)"
            ]
          },
          "metadata": {},
          "execution_count": 48
        }
      ]
    },
    {
      "cell_type": "code",
      "source": [
        "labels_full_pipeline['labels'].categories_"
      ],
      "metadata": {
        "colab": {
          "base_uri": "https://localhost:8080/"
        },
        "id": "Ca79epWJbjTU",
        "outputId": "707ae6a6-759b-465f-8ffb-8ba866d2b63e"
      },
      "execution_count": null,
      "outputs": [
        {
          "output_type": "execute_result",
          "data": {
            "text/plain": [
              "[array(['AOSO2', 'BNDM', 'EBOM', 'FAOSO4', 'FJS', 'FS', 'FSBNDM', 'HOR',\n",
              "        'LBNDM', 'RAITA', 'SBNDMQ2', 'SO', 'SSEF'], dtype=object)]"
            ]
          },
          "metadata": {},
          "execution_count": 49
        }
      ]
    },
    {
      "cell_type": "markdown",
      "source": [
        "## How do algorithm separate from each other.\n",
        "Let us check how distant the algorithms are from each other using PCA."
      ],
      "metadata": {
        "id": "sQ587_69EuE3"
      }
    },
    {
      "cell_type": "code",
      "source": [
        "smart_features\n",
        "smart_features.toarray().shape"
      ],
      "metadata": {
        "colab": {
          "base_uri": "https://localhost:8080/"
        },
        "id": "0nd0U5lfI5JJ",
        "outputId": "47788898-1600-42ce-ec26-b350852ff0f8"
      },
      "execution_count": null,
      "outputs": [
        {
          "output_type": "execute_result",
          "data": {
            "text/plain": [
              "(488, 15)"
            ]
          },
          "metadata": {},
          "execution_count": 50
        }
      ]
    },
    {
      "cell_type": "code",
      "source": [
        "# Transform dataset --> (488,4,4)\n",
        "tr_smart_features = np.append(smart_features.toarray(),np.zeros((488,1)),axis=1)\n",
        "tr_smart_features.shape"
      ],
      "metadata": {
        "colab": {
          "base_uri": "https://localhost:8080/"
        },
        "id": "5zm0v3e7GIxF",
        "outputId": "ca656ba3-cd66-4928-bdc1-9c3bd76d08ff"
      },
      "execution_count": null,
      "outputs": [
        {
          "output_type": "execute_result",
          "data": {
            "text/plain": [
              "(488, 16)"
            ]
          },
          "metadata": {},
          "execution_count": 51
        }
      ]
    },
    {
      "cell_type": "code",
      "source": [
        "from sklearn.decomposition import PCA\n",
        "pca = PCA(10)\n",
        "f_pca = pca.fit_transform(tr_smart_features)\n",
        "f_pca.shape"
      ],
      "metadata": {
        "colab": {
          "base_uri": "https://localhost:8080/"
        },
        "id": "r3KJAqtbFWyJ",
        "outputId": "831279ce-2191-4939-8305-f7785cc05cc7"
      },
      "execution_count": null,
      "outputs": [
        {
          "output_type": "execute_result",
          "data": {
            "text/plain": [
              "(488, 10)"
            ]
          },
          "metadata": {},
          "execution_count": 52
        }
      ]
    },
    {
      "cell_type": "code",
      "source": [
        "from sklearn.decomposition import PCA\n",
        "pca = PCA(n_components=2)\n",
        "t_features = pca.fit_transform(smart_features.toarray())\n",
        "fig,ax = plt.subplots()\n",
        "img=ax.scatter(t_features[:, 0], t_features[:, 1],\n",
        "            c=smart_labels, edgecolor='none', alpha=0.5,\n",
        "            cmap=plt.cm.get_cmap('Spectral', 13))\n",
        "plt.xlabel('component 1')\n",
        "plt.ylabel('component 2')\n",
        "img.set_clim(-0.5, 12.5)\n",
        "clb = plt.colorbar(img,ticks=range(13), label='Algorithm')\n",
        "clb.set_ticklabels(labels_full_pipeline['labels'].categories_[0])\n",
        "_=plt.axis(\"off\")\n",
        "save_fig('PCA')"
      ],
      "metadata": {
        "colab": {
          "base_uri": "https://localhost:8080/",
          "height": 314
        },
        "id": "GtDcr29zlp6L",
        "outputId": "90b19629-97d2-43b4-e8df-f8a874fd807e"
      },
      "execution_count": null,
      "outputs": [
        {
          "output_type": "stream",
          "name": "stdout",
          "text": [
            "Saving figure PCA\n"
          ]
        },
        {
          "output_type": "display_data",
          "data": {
            "text/plain": [
              "<Figure size 432x288 with 2 Axes>"
            ],
            "image/png": "[encoded data removed]"
          },
          "metadata": {
            "needs_background": "light"
          }
        }
      ]
    },
    {
      "cell_type": "code",
      "source": [
        "tsne = TSNE(n_components=2, learning_rate='auto', init='random').fit_transform(tr_smart_features)\n",
        "tx, ty = tsne[:,0], tsne[:,1]\n",
        "fig,ax = plt.subplots()\n",
        "img=ax.scatter(tx, ty,\n",
        "            c=smart_labels, edgecolor='none', alpha=0.5,\n",
        "            cmap=plt.cm.get_cmap('Spectral', 13))\n",
        "plt.xlabel('component 1')\n",
        "plt.ylabel('component 2')\n",
        "img.set_clim(-0.5, 12.5)\n",
        "clb = plt.colorbar(img,ticks=range(13), label='Algorithm')\n",
        "clb.set_ticklabels(labels_full_pipeline['labels'].categories_[0])\n",
        "_=plt.axis(\"off\")\n",
        "save_fig('TSNE')"
      ],
      "metadata": {
        "colab": {
          "base_uri": "https://localhost:8080/",
          "height": 314
        },
        "id": "OdZPr47AKTWI",
        "outputId": "234b6c63-e775-4fc5-f609-46bea344ca54"
      },
      "execution_count": null,
      "outputs": [
        {
          "output_type": "stream",
          "name": "stdout",
          "text": [
            "Saving figure PCA plus TSNE\n"
          ]
        },
        {
          "output_type": "display_data",
          "data": {
            "text/plain": [
              "<Figure size 432x288 with 2 Axes>"
            ],
            "image/png": "[encoded data removed]"
          },
          "metadata": {
            "needs_background": "light"
          }
        }
      ]
    },
    {
      "cell_type": "markdown",
      "source": [
        "### AUTOENCODER"
      ],
      "metadata": {
        "id": "CBJpz5IP7lUl"
      }
    },
    {
      "cell_type": "code",
      "source": [
        "import tensorflow as tf\n",
        "from tensorflow.keras import layers,losses\n",
        "from tensorflow.keras.models import Model\n",
        "from numpy.random import seed\n",
        "seed(2022)\n",
        "tf.random.set_seed(2022)\n"
      ],
      "metadata": {
        "id": "Sg0q_0Ym8T92"
      },
      "execution_count": null,
      "outputs": []
    },
    {
      "cell_type": "code",
      "source": [
        "latent_dim = 2\n",
        "class AutoEncoder(Model):\n",
        "    def __init__(self,latent_dim) -> None:\n",
        "        super(AutoEncoder,self).__init__()\n",
        "        self.latent_dim = latent_dim\n",
        "\n",
        "        self.encoder = tf.keras.Sequential(\n",
        "            [\n",
        "             layers.Dense(8,activation='relu'),\n",
        "            #  layers.Dense(4,activation='relu'),\n",
        "             layers.Dense(latent_dim,activation='relu')]\n",
        "        )\n",
        "\n",
        "        self.decoder = tf.keras.Sequential(\n",
        "            [\n",
        "            #  layers.Dense(4,activation='sigmoid'),\n",
        "             layers.Dense(8,activation='sigmoid'),\n",
        "             layers.Dense(15,activation='sigmoid')]\n",
        "        )\n",
        "\n",
        "    def call(self,x):\n",
        "        encoded = self.encoder(x)\n",
        "        decoded = self.decoder(encoded)\n",
        "        return decoded"
      ],
      "metadata": {
        "id": "RxfeCLcb-DaF"
      },
      "execution_count": null,
      "outputs": []
    },
    {
      "cell_type": "code",
      "source": [
        "x_train = smart_features.toarray()/255."
      ],
      "metadata": {
        "id": "kXMO1FJCCBEJ"
      },
      "execution_count": null,
      "outputs": []
    },
    {
      "cell_type": "code",
      "source": [
        "autoencoder = AutoEncoder(latent_dim)\n",
        "autoencoder.compile(optimizer='adam', loss=losses.MeanSquaredError())\n",
        "autoencoder.fit(x_train,x_train,\n",
        "                epochs=20,\n",
        "                shuffle=True,\n",
        "                validation_data=[x_train,x_train]\n",
        "                )"
      ],
      "metadata": {
        "colab": {
          "base_uri": "https://localhost:8080/"
        },
        "id": "vO6_rjaEBLJW",
        "outputId": "f2b35d8f-2813-45c7-d065-ec6221be2af6"
      },
      "execution_count": null,
      "outputs": [
        {
          "output_type": "stream",
          "name": "stdout",
          "text": [
            "Epoch 1/20\n",
            "16/16 [==============================] - 4s 13ms/step - loss: 0.2605 - val_loss: 0.2498\n",
            "Epoch 2/20\n",
            "16/16 [==============================] - 0s 5ms/step - loss: 0.2414 - val_loss: 0.2311\n",
            "Epoch 3/20\n",
            "16/16 [==============================] - 0s 5ms/step - loss: 0.2231 - val_loss: 0.2133\n",
            "Epoch 4/20\n",
            "16/16 [==============================] - 0s 5ms/step - loss: 0.2057 - val_loss: 0.1964\n",
            "Epoch 5/20\n",
            "16/16 [==============================] - 0s 5ms/step - loss: 0.1892 - val_loss: 0.1803\n",
            "Epoch 6/20\n",
            "16/16 [==============================] - 0s 7ms/step - loss: 0.1735 - val_loss: 0.1651\n",
            "Epoch 7/20\n",
            "16/16 [==============================] - 0s 5ms/step - loss: 0.1586 - val_loss: 0.1506\n",
            "Epoch 8/20\n",
            "16/16 [==============================] - 0s 7ms/step - loss: 0.1444 - val_loss: 0.1368\n",
            "Epoch 9/20\n",
            "16/16 [==============================] - 0s 5ms/step - loss: 0.1309 - val_loss: 0.1237\n",
            "Epoch 10/20\n",
            "16/16 [==============================] - 0s 5ms/step - loss: 0.1181 - val_loss: 0.1113\n",
            "Epoch 11/20\n",
            "16/16 [==============================] - 0s 7ms/step - loss: 0.1061 - val_loss: 0.0997\n",
            "Epoch 12/20\n",
            "16/16 [==============================] - 0s 5ms/step - loss: 0.0948 - val_loss: 0.0889\n",
            "Epoch 13/20\n",
            "16/16 [==============================] - 0s 5ms/step - loss: 0.0844 - val_loss: 0.0789\n",
            "Epoch 14/20\n",
            "16/16 [==============================] - 0s 7ms/step - loss: 0.0746 - val_loss: 0.0695\n",
            "Epoch 15/20\n",
            "16/16 [==============================] - 0s 7ms/step - loss: 0.0656 - val_loss: 0.0610\n",
            "Epoch 16/20\n",
            "16/16 [==============================] - 0s 5ms/step - loss: 0.0575 - val_loss: 0.0533\n",
            "Epoch 17/20\n",
            "16/16 [==============================] - 0s 7ms/step - loss: 0.0502 - val_loss: 0.0465\n",
            "Epoch 18/20\n",
            "16/16 [==============================] - 0s 5ms/step - loss: 0.0438 - val_loss: 0.0407\n",
            "Epoch 19/20\n",
            "16/16 [==============================] - 0s 5ms/step - loss: 0.0383 - val_loss: 0.0356\n",
            "Epoch 20/20\n",
            "16/16 [==============================] - 0s 5ms/step - loss: 0.0336 - val_loss: 0.0312\n"
          ]
        },
        {
          "output_type": "execute_result",
          "data": {
            "text/plain": [
              "<keras.callbacks.History at 0x7fa83062b510>"
            ]
          },
          "metadata": {},
          "execution_count": 58
        }
      ]
    },
    {
      "cell_type": "code",
      "source": [
        "# Display encoded results\n",
        "encoded = autoencoder.encoder(x_train).numpy()\n",
        "decoded = autoencoder.decoder(encoded).numpy()\n",
        "encoded[:5]"
      ],
      "metadata": {
        "colab": {
          "base_uri": "https://localhost:8080/"
        },
        "id": "rL9Wyv4ZDDyJ",
        "outputId": "b37bfd84-51d4-4a5f-9f49-9366cf16ae08"
      },
      "execution_count": null,
      "outputs": [
        {
          "output_type": "execute_result",
          "data": {
            "text/plain": [
              "array([[1.3787038 , 0.78438294],\n",
              "       [1.3897064 , 0.7901789 ],\n",
              "       [1.3934257 , 0.7914258 ],\n",
              "       [1.3864818 , 0.7878002 ],\n",
              "       [1.3985372 , 0.7982265 ]], dtype=float32)"
            ]
          },
          "metadata": {},
          "execution_count": 59
        }
      ]
    },
    {
      "cell_type": "code",
      "source": [
        "tx, ty = encoded[:,0], encoded[:,1]\n",
        "fig,ax = plt.subplots()\n",
        "img=ax.scatter(tx, ty,\n",
        "            c=smart_labels, edgecolor='none', alpha=0.5,\n",
        "            cmap=plt.cm.get_cmap('Spectral', 13))\n",
        "plt.xlabel('component 1')\n",
        "plt.ylabel('component 2')\n",
        "img.set_clim(-0.5, 12.5)\n",
        "clb = plt.colorbar(img,ticks=range(13), label='Algorithm')\n",
        "clb.set_ticklabels(labels_full_pipeline['labels'].categories_[0])\n",
        "_=plt.axis(\"off\")\n",
        "save_fig('Autoencoder')"
      ],
      "metadata": {
        "colab": {
          "base_uri": "https://localhost:8080/",
          "height": 314
        },
        "id": "4bA_1iEqEFr4",
        "outputId": "7bc80f6a-68a4-4511-b8d5-fc0cdc79fea4"
      },
      "execution_count": null,
      "outputs": [
        {
          "output_type": "stream",
          "name": "stdout",
          "text": [
            "Saving figure Autoencoder\n"
          ]
        },
        {
          "output_type": "display_data",
          "data": {
            "text/plain": [
              "<Figure size 432x288 with 2 Axes>"
            ],
            "image/png": "[encoded data removed]"
          },
          "metadata": {
            "needs_background": "light"
          }
        }
      ]
    },
    {
      "cell_type": "code",
      "source": [
        "# autoencoder.encoder.summary()"
      ],
      "metadata": {
        "id": "zE8pyQarQkuf"
      },
      "execution_count": null,
      "outputs": []
    },
    {
      "cell_type": "code",
      "source": [
        "dot_img_file = '/tmp/model_1.png'\n",
        "tf.keras.utils.plot_model(autoencoder.encoder, to_file=dot_img_file, show_shapes=True)"
      ],
      "metadata": {
        "id": "G2SQyLSJRTAi",
        "colab": {
          "base_uri": "https://localhost:8080/",
          "height": 312
        },
        "outputId": "335ae6d7-2666-4f4c-9885-08e78b9aaace"
      },
      "execution_count": null,
      "outputs": [
        {
          "output_type": "execute_result",
          "data": {
            "text/plain": [
              "<IPython.core.display.Image object>"
            ],
            "image/png": "[encoded data removed]"
          },
          "metadata": {},
          "execution_count": 62
        }
      ]
    },
    {
      "cell_type": "code",
      "source": [
        "dot_img_file = '/tmp/model_1.png'\n",
        "tf.keras.utils.plot_model(autoencoder.decoder, to_file=dot_img_file, show_shapes=True)\n",
        "# tf.keras.utils.plot_model(autoencoder.decoder)"
      ],
      "metadata": {
        "colab": {
          "base_uri": "https://localhost:8080/",
          "height": 312
        },
        "id": "ZbPe_NTfTsMf",
        "outputId": "7d6d8e4a-8a54-4745-e80b-fae7be50ff76"
      },
      "execution_count": null,
      "outputs": [
        {
          "output_type": "execute_result",
          "data": {
            "text/plain": [
              "<IPython.core.display.Image object>"
            ],
            "image/png": "[encoded data removed]"
          },
          "metadata": {},
          "execution_count": 63
        }
      ]
    },
    {
      "cell_type": "code",
      "source": [],
      "metadata": {
        "id": "ahczAUXYjCHc"
      },
      "execution_count": null,
      "outputs": []
    },
    {
      "cell_type": "code",
      "source": [
        "# Classification Report Modified\n",
        "from sklearn.metrics import classification_report\n",
        "import pandas as pd\n",
        "report = {'label 1': {'precision':0.5,\n",
        "             'recall':1.0,\n",
        "             'f1-score':0.67,\n",
        "             'support':1},\n",
        "          'label 2': {'precision':0.55,\n",
        "             'recall':1.0,\n",
        "             'f1-score':0.67,\n",
        "             'support':10}\n",
        "}\n",
        "\n",
        "indices = dict()\n",
        "for i,k in enumerate(report.keys()):\n",
        "    indices[k]=i\n",
        "\n",
        "print(indices)\n",
        "\n",
        "df = pd.DataFrame(report).T\n",
        "df.rename(index=indices)"
      ],
      "metadata": {
        "id": "QDDZf9wDdasd",
        "colab": {
          "base_uri": "https://localhost:8080/",
          "height": 129
        },
        "outputId": "f67c645a-fc24-4f62-d203-cf0b5a263fd0"
      },
      "execution_count": null,
      "outputs": [
        {
          "output_type": "stream",
          "name": "stdout",
          "text": [
            "{'label 1': 0, 'label 2': 1}\n"
          ]
        },
        {
          "output_type": "execute_result",
          "data": {
            "text/plain": [
              "   precision  recall  f1-score  support\n",
              "0       0.50     1.0      0.67      1.0\n",
              "1       0.55     1.0      0.67     10.0"
            ],
            "text/html": [
              "\n",
              "  <div id=\"df-67f72110-5f37-488d-a81f-2c604159e64b\">\n",
              "    <div class=\"colab-df-container\">\n",
              "      <div>\n",
              "<style scoped>\n",
              "    .dataframe tbody tr th:only-of-type {\n",
              "        vertical-align: middle;\n",
              "    }\n",
              "\n",
              "    .dataframe tbody tr th {\n",
              "        vertical-align: top;\n",
              "    }\n",
              "\n",
              "    .dataframe thead th {\n",
              "        text-align: right;\n",
              "    }\n",
              "</style>\n",
              "<table border=\"1\" class=\"dataframe\">\n",
              "  <thead>\n",
              "    <tr style=\"text-align: right;\">\n",
              "      <th></th>\n",
              "      <th>precision</th>\n",
              "      <th>recall</th>\n",
              "      <th>f1-score</th>\n",
              "      <th>support</th>\n",
              "    </tr>\n",
              "  </thead>\n",
              "  <tbody>\n",
              "    <tr>\n",
              "      <th>0</th>\n",
              "      <td>0.50</td>\n",
              "      <td>1.0</td>\n",
              "      <td>0.67</td>\n",
              "      <td>1.0</td>\n",
              "    </tr>\n",
              "    <tr>\n",
              "      <th>1</th>\n",
              "      <td>0.55</td>\n",
              "      <td>1.0</td>\n",
              "      <td>0.67</td>\n",
              "      <td>10.0</td>\n",
              "    </tr>\n",
              "  </tbody>\n",
              "</table>\n",
              "</div>\n",
              "      <button class=\"colab-df-convert\" onclick=\"convertToInteractive('df-67f72110-5f37-488d-a81f-2c604159e64b')\"\n",
              "              title=\"Convert this dataframe to an interactive table.\"\n",
              "              style=\"display:none;\">\n",
              "        \n",
              "  <svg xmlns=\"http://www.w3.org/2000/svg\" height=\"24px\"viewBox=\"0 0 24 24\"\n",
              "       width=\"24px\">\n",
              "    <path d=\"M0 0h24v24H0V0z\" fill=\"none\"/>\n",
              "    <path d=\"M18.56 5.44l.94 2.06.94-2.06 2.06-.94-2.06-.94-.94-2.06-.94 2.06-2.06.94zm-11 1L8.5 8.5l.94-2.06 2.06-.94-2.06-.94L8.5 2.5l-.94 2.06-2.06.94zm10 10l.94 2.06.94-2.06 2.06-.94-2.06-.94-.94-2.06-.94 2.06-2.06.94z\"/><path d=\"M17.41 7.96l-1.37-1.37c-.4-.4-.92-.59-1.43-.59-.52 0-1.04.2-1.43.59L10.3 9.45l-7.72 7.72c-.78.78-.78 2.05 0 2.83L4 21.41c.39.39.9.59 1.41.59.51 0 1.02-.2 1.41-.59l7.78-7.78 2.81-2.81c.8-.78.8-2.07 0-2.86zM5.41 20L4 18.59l7.72-7.72 1.47 1.35L5.41 20z\"/>\n",
              "  </svg>\n",
              "      </button>\n",
              "      \n",
              "  <style>\n",
              "    .colab-df-container {\n",
              "      display:flex;\n",
              "      flex-wrap:wrap;\n",
              "      gap: 12px;\n",
              "    }\n",
              "\n",
              "    .colab-df-convert {\n",
              "      background-color: #E8F0FE;\n",
              "      border: none;\n",
              "      border-radius: 50%;\n",
              "      cursor: pointer;\n",
              "      display: none;\n",
              "      fill: #1967D2;\n",
              "      height: 32px;\n",
              "      padding: 0 0 0 0;\n",
              "      width: 32px;\n",
              "    }\n",
              "\n",
              "    .colab-df-convert:hover {\n",
              "      background-color: #E2EBFA;\n",
              "      box-shadow: 0px 1px 2px rgba(60, 64, 67, 0.3), 0px 1px 3px 1px rgba(60, 64, 67, 0.15);\n",
              "      fill: #174EA6;\n",
              "    }\n",
              "\n",
              "    [theme=dark] .colab-df-convert {\n",
              "      background-color: #3B4455;\n",
              "      fill: #D2E3FC;\n",
              "    }\n",
              "\n",
              "    [theme=dark] .colab-df-convert:hover {\n",
              "      background-color: #434B5C;\n",
              "      box-shadow: 0px 1px 3px 1px rgba(0, 0, 0, 0.15);\n",
              "      filter: drop-shadow(0px 1px 2px rgba(0, 0, 0, 0.3));\n",
              "      fill: #FFFFFF;\n",
              "    }\n",
              "  </style>\n",
              "\n",
              "      <script>\n",
              "        const buttonEl =\n",
              "          document.querySelector('#df-67f72110-5f37-488d-a81f-2c604159e64b button.colab-df-convert');\n",
              "        buttonEl.style.display =\n",
              "          google.colab.kernel.accessAllowed ? 'block' : 'none';\n",
              "\n",
              "        async function convertToInteractive(key) {\n",
              "          const element = document.querySelector('#df-67f72110-5f37-488d-a81f-2c604159e64b');\n",
              "          const dataTable =\n",
              "            await google.colab.kernel.invokeFunction('convertToInteractive',\n",
              "                                                     [key], {});\n",
              "          if (!dataTable) return;\n",
              "\n",
              "          const docLinkHtml = 'Like what you see? Visit the ' +\n",
              "            '<a target=\"_blank\" href=https://colab.research.google.com/notebooks/data_table.ipynb>data table notebook</a>'\n",
              "            + ' to learn more about interactive tables.';\n",
              "          element.innerHTML = '';\n",
              "          dataTable['output_type'] = 'display_data';\n",
              "          await google.colab.output.renderOutput(dataTable, element);\n",
              "          const docLink = document.createElement('div');\n",
              "          docLink.innerHTML = docLinkHtml;\n",
              "          element.appendChild(docLink);\n",
              "        }\n",
              "      </script>\n",
              "    </div>\n",
              "  </div>\n",
              "  "
            ]
          },
          "metadata": {},
          "execution_count": 65
        }
      ]
    }
  ]
}